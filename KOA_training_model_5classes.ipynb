{
  "cells": [
    {
      "cell_type": "markdown",
      "source": [
        "IMPORTING ALL LIBRARIES"
      ],
      "metadata": {
        "id": "DsuSYl3tDmIa"
      }
    },
    {
      "cell_type": "code",
      "execution_count": null,
      "metadata": {
        "id": "V4_S7Ldy8bWh"
      },
      "outputs": [],
      "source": [
        "import numpy as np\n",
        "from tensorflow.keras.preprocessing.image import load_img, img_to_array,ImageDataGenerator\n",
        "from tensorflow.keras.utils import to_categorical\n",
        "from tensorflow.keras.models import Model\n",
        "from tensorflow.keras.layers import Conv2D, Conv2DTranspose, MaxPooling2D, concatenate, Input,Flatten, Dense, Dropout,GlobalAveragePooling2D\n",
        "from tensorflow.keras.applications import ResNet50\n",
        "from tensorflow.keras.optimizers import Adam\n",
        "from tensorflow.keras.callbacks import ModelCheckpoint"
      ]
    },
    {
      "cell_type": "markdown",
      "source": [
        "UNZIPPING DATA SET TO DRIVE"
      ],
      "metadata": {
        "id": "BaIyOVLyD1UU"
      }
    },
    {
      "cell_type": "code",
      "execution_count": null,
      "metadata": {
        "colab": {
          "base_uri": "https://localhost:8080/"
        },
        "id": "7Xp8gibV8guQ",
        "outputId": "766de1c3-6579-4abf-c6a1-49f3427aa4f1"
      },
      "outputs": [
        {
          "output_type": "stream",
          "name": "stdout",
          "text": [
            "Successfully unzipped /content/drive/MyDrive/cleaned_dataset.zip to /content/\n"
          ]
        }
      ],
      "source": [
        "import os\n",
        "import zipfile\n",
        "\n",
        "\n",
        "def extract_file(file_path, extract_to):\n",
        "    if not os.path.exists(file_path):\n",
        "        print(f'The file {file_path} does not exist.')\n",
        "        return\n",
        "\n",
        "    if file_path.endswith('.zip'):\n",
        "        try:\n",
        "            with zipfile.ZipFile(file_path, 'r') as zip_ref:\n",
        "                zip_ref.extractall(extract_to)\n",
        "            print(f'Successfully unzipped {file_path} to {extract_to}')\n",
        "        except zipfile.BadZipFile as e:\n",
        "            print(f'Failed to unzip {file_path}: {e}')\n",
        "    elif file_path.endswith('.rar'):\n",
        "        try:\n",
        "            with rarfile.RarFile(file_path, 'r') as rar_ref:\n",
        "                rar_ref.extractall(extract_to)\n",
        "            print(f'Successfully extracted {file_path} to {extract_to}')\n",
        "        except rarfile.Error as e:\n",
        "            print(f'Failed to extract {file_path}: {e}')\n",
        "    else:\n",
        "        print(f'Unsupported file type: {file_path}')\n",
        "\n",
        "zip_file_path = '/content/drive/MyDrive/cleaned_dataset.zip'\n",
        "extract_path = '/content/'\n",
        "\n",
        "extract_file(zip_file_path, extract_path)\n"
      ]
    },
    {
      "cell_type": "code",
      "source": [
        "from google.colab import drive\n",
        "drive.mount('/content/drive')"
      ],
      "metadata": {
        "colab": {
          "base_uri": "https://localhost:8080/"
        },
        "id": "5fJb70j0QY5R",
        "outputId": "bdbe39fb-fdb0-4885-87b8-8872c9bb410c"
      },
      "execution_count": null,
      "outputs": [
        {
          "output_type": "stream",
          "name": "stdout",
          "text": [
            "Mounted at /content/drive\n"
          ]
        }
      ]
    },
    {
      "cell_type": "markdown",
      "source": [
        "SETTING PARAMETER FOR THE DATSET AND MODEL"
      ],
      "metadata": {
        "id": "fPYuOVLXELDf"
      }
    },
    {
      "cell_type": "code",
      "execution_count": null,
      "metadata": {
        "id": "sJQqJg4I8inm"
      },
      "outputs": [],
      "source": [
        "# Parameters for the dataset and model\n",
        "img_shape = (256, 256, 3)  # Shape of the input images\n",
        "num_classes = 4  # Number of classes for classification\n",
        "batch_size = 32  # Batch size for training\n",
        "train_path = '/content/cleaned_dataset/train'  # Path to training data\n",
        "val_path = '/content/cleaned_dataset/val'  # Path to validation data\n",
        "test_path = '/content/cleaned_dataset/test'  # Path to test data\n",
        "classes = ['0Normal',  '2Mild', '3Moderate', '4Severe']  # Class labels"
      ]
    },
    {
      "cell_type": "code",
      "source": [
        "import os\n",
        "import shutil\n",
        "\n",
        "def remove_class(directory, class_to_remove):\n",
        "    class_path = os.path.join(directory, class_to_remove)\n",
        "    if os.path.exists(class_path):\n",
        "        shutil.rmtree(class_path)\n",
        "        print(f'Removed {class_path}')\n",
        "    else:\n",
        "        print(f'{class_path} does not exist')\n",
        "\n",
        "# Directories containing the dataset\n",
        "train_path = '/content/cleaned_dataset/train'\n",
        "val_path = '/content/cleaned_dataset/val'\n",
        "test_path = '/content/cleaned_dataset/test'\n",
        "\n",
        "# Class to be removed\n",
        "class_to_remove = '1Doubtful'\n",
        "\n",
        "# Remove the class from training, validation, and test sets\n",
        "remove_class(train_path, class_to_remove)\n",
        "remove_class(val_path, class_to_remove)\n",
        "remove_class(test_path, class_to_remove)\n"
      ],
      "metadata": {
        "id": "VDS1RegzPQ86",
        "colab": {
          "base_uri": "https://localhost:8080/"
        },
        "outputId": "75fc8f63-d7af-4a3b-c047-daad3bb26a16"
      },
      "execution_count": null,
      "outputs": [
        {
          "output_type": "stream",
          "name": "stdout",
          "text": [
            "Removed /content/cleaned_dataset/train/1Doubtful\n",
            "Removed /content/cleaned_dataset/val/1Doubtful\n",
            "Removed /content/cleaned_dataset/test/1Doubtful\n"
          ]
        }
      ]
    },
    {
      "cell_type": "markdown",
      "source": [
        "Image Loading and Preprocessing Function"
      ],
      "metadata": {
        "id": "t6G7kXzFE4aI"
      }
    },
    {
      "cell_type": "code",
      "execution_count": null,
      "metadata": {
        "id": "wnCh618A8nk3"
      },
      "outputs": [],
      "source": [
        "from tensorflow.keras.preprocessing.image import load_img, img_to_array\n",
        "\n",
        "def load_and_preprocess_image(img_path, target_size=img_shape):\n",
        "    \"\"\"\n",
        "    Load an image from the specified path and preprocess it.\n",
        "\n",
        "    Parameters:\n",
        "    img_path (str): Path to the image file.\n",
        "    target_size (tuple): Target size to resize the image (height, width, channels).\n",
        "\n",
        "    Returns:\n",
        "    numpy.ndarray or None: Preprocessed image array, or None if an error occurs.\n",
        "    \"\"\"\n",
        "    try:\n",
        "        # Load the image with the specified target size and RGB color mode\n",
        "        img = load_img(img_path, color_mode='rgb', target_size=(target_size[0], target_size[1]))\n",
        "\n",
        "        # Convert the image to a numpy array\n",
        "        img_array = img_to_array(img)\n",
        "\n",
        "        # Normalize the pixel values to be between 0 and 1\n",
        "        img_array /= 255.0\n",
        "\n",
        "        return img_array\n",
        "    except Exception as e:\n",
        "        # Print an error message if the image cannot be loaded or processed\n",
        "        print(f\"Error loading image {img_path}: {str(e)}\")\n",
        "        return None\n"
      ]
    },
    {
      "cell_type": "markdown",
      "source": [
        "Image Batch Generator with Preprocessing and One-Hot Encoding"
      ],
      "metadata": {
        "id": "XB2PKeYgFu79"
      }
    },
    {
      "cell_type": "code",
      "execution_count": null,
      "metadata": {
        "id": "V7UAIsuk8pXj"
      },
      "outputs": [],
      "source": [
        "import numpy as np\n",
        "from tensorflow.keras.utils import to_categorical\n",
        "\n",
        "def generator_fn(image_paths, labels, batch_size=32):\n",
        "    \"\"\"\n",
        "    Generator function to yield batches of preprocessed images and their one-hot encoded labels.\n",
        "\n",
        "    Parameters:\n",
        "    image_paths (list): List of file paths to the images.\n",
        "    labels (list): List of labels corresponding to the images.\n",
        "    batch_size (int): Number of samples per batch.\n",
        "\n",
        "    Yields:\n",
        "    tuple: A batch of preprocessed images and their one-hot encoded labels.\n",
        "    \"\"\"\n",
        "    num_samples = len(image_paths)  # Total number of samples\n",
        "\n",
        "    while True:  # Infinite loop to keep yielding batches\n",
        "        # Randomly select indices for the current batch\n",
        "        indices = np.random.choice(num_samples, batch_size, replace=False)\n",
        "\n",
        "        # Get the image paths and labels for the current batch\n",
        "        batch_image_paths = [image_paths[i] for i in indices]\n",
        "        batch_labels = [labels[i] for i in indices]\n",
        "\n",
        "        # Load and preprocess the batch of images\n",
        "        batch_images = [load_and_preprocess_image(img_path) for img_path in batch_image_paths]\n",
        "\n",
        "        # Filter out any images that failed to load\n",
        "        batch_images = [img for img in batch_images if img is not None]\n",
        "\n",
        "        # If all images failed to load, skip the batch\n",
        "        if not batch_images:\n",
        "            continue\n",
        "\n",
        "        # One-hot encode the labels\n",
        "        batch_labels_one_hot = to_categorical(batch_labels, num_classes)\n",
        "\n",
        "        # Ensure the batch size matches the specified batch_size\n",
        "        if len(batch_images) < batch_size:\n",
        "            # Calculate how many more samples are needed\n",
        "            extra_samples = batch_size - len(batch_images)\n",
        "\n",
        "            # Randomly select additional indices for the extra samples\n",
        "            extra_indices = np.random.choice(num_samples, extra_samples, replace=False)\n",
        "\n",
        "            # Get the image paths and labels for the extra samples\n",
        "            extra_batch_image_paths = [image_paths[i] for i in extra_indices]\n",
        "            extra_batch_labels = [labels[i] for i in extra_indices]\n",
        "\n",
        "            # Load and preprocess the extra batch of images\n",
        "            extra_batch_images = [load_and_preprocess_image(img_path) for img_path in extra_batch_image_paths]\n",
        "\n",
        "            # Filter out any extra images that failed to load\n",
        "            extra_batch_images = [img for img in extra_batch_images if img is not None]\n",
        "\n",
        "            # Extend the current batch with the extra images and labels\n",
        "            batch_images.extend(extra_batch_images)\n",
        "            batch_labels.extend(extra_batch_labels)\n",
        "\n",
        "        # Yield the batch of images and their one-hot encoded labels as numpy arrays\n",
        "        yield np.array(batch_images), np.array(batch_labels_one_hot)\n"
      ]
    },
    {
      "cell_type": "markdown",
      "source": [
        "Function to Retrieve Image Paths and Labels from Dataset Directory"
      ],
      "metadata": {
        "id": "D-9YIZznGu5f"
      }
    },
    {
      "cell_type": "code",
      "execution_count": null,
      "metadata": {
        "id": "OV62DKJM8rPN"
      },
      "outputs": [],
      "source": [
        "import os\n",
        "\n",
        "def get_image_paths_and_labels(dataset_path, classes):\n",
        "    \"\"\"\n",
        "    Retrieves image file paths and their corresponding labels from the dataset directory.\n",
        "\n",
        "    Parameters:\n",
        "    dataset_path (str): Path to the dataset directory.\n",
        "    classes (list): List of class names.\n",
        "\n",
        "    Returns:\n",
        "    tuple: Two lists, one containing image file paths and the other containing corresponding labels.\n",
        "    \"\"\"\n",
        "    image_paths = []  # List to store image file paths\n",
        "    labels = []  # List to store corresponding labels\n",
        "\n",
        "    # Iterate over each class and its index (which will be used as the label)\n",
        "    for label, class_name in enumerate(classes):\n",
        "        # Construct the path to the current class directory\n",
        "        class_path = os.path.join(dataset_path, class_name)\n",
        "\n",
        "        # List all files in the class directory\n",
        "        for img_name in os.listdir(class_path):\n",
        "            # Append the full path of the image file to the image_paths list\n",
        "            image_paths.append(os.path.join(class_path, img_name))\n",
        "\n",
        "            # Append the label to the labels list\n",
        "            labels.append(label)\n",
        "\n",
        "    # Return the lists of image file paths and corresponding labels\n",
        "    return image_paths, labels\n"
      ]
    },
    {
      "cell_type": "markdown",
      "source": [
        "Retrieving Image Paths and Labels for Training, Validation, and Test Datasets"
      ],
      "metadata": {
        "id": "4rhM4_5qG5YC"
      }
    },
    {
      "cell_type": "code",
      "execution_count": null,
      "metadata": {
        "id": "MMQn7kLk8tEV"
      },
      "outputs": [],
      "source": [
        "# Get image paths and labels for the training dataset\n",
        "train_image_paths, train_labels = get_image_paths_and_labels(train_path, classes)\n",
        "\n",
        "# Get image paths and labels for the validation dataset\n",
        "val_image_paths, val_labels = get_image_paths_and_labels(val_path, classes)\n",
        "\n",
        "# Get image paths and labels for the test dataset\n",
        "test_image_paths, test_labels = get_image_paths_and_labels(test_path, classes)\n"
      ]
    },
    {
      "cell_type": "markdown",
      "source": [
        "Creating Data Generators for Training, Validation, and Test Datasets"
      ],
      "metadata": {
        "id": "WMs7dQOlHBtI"
      }
    },
    {
      "cell_type": "code",
      "execution_count": null,
      "metadata": {
        "id": "N7yiB_7i8u2k"
      },
      "outputs": [],
      "source": [
        "# Create generators for the training dataset\n",
        "train_generator = generator_fn(train_image_paths, train_labels, batch_size=batch_size)\n",
        "\n",
        "# Create generators for the validation dataset\n",
        "val_generator = generator_fn(val_image_paths, val_labels, batch_size=batch_size)\n",
        "\n",
        "# Create generators for the test dataset\n",
        "test_generator = generator_fn(test_image_paths, test_labels, batch_size=batch_size)\n"
      ]
    },
    {
      "cell_type": "markdown",
      "source": [
        "UNet Model Definition with Intermediate Feature Map Output"
      ],
      "metadata": {
        "id": "Rkj8BgbhHNsg"
      }
    },
    {
      "cell_type": "code",
      "execution_count": null,
      "metadata": {
        "id": "OOqJM5-l8whN"
      },
      "outputs": [],
      "source": [
        "from keras.layers import Input, Conv2D, MaxPooling2D, Conv2DTranspose, concatenate\n",
        "from keras.models import Model\n",
        "\n",
        "def unet(input_size=(256, 256, 3)):\n",
        "    # Define the input layer\n",
        "    inputs = Input(input_size)\n",
        "\n",
        "    # Encoder\n",
        "    conv1 = Conv2D(64, 3, activation='relu', padding='same')(inputs)\n",
        "    conv1 = Conv2D(64, 3, activation='relu', padding='same')(conv1)\n",
        "    pool1 = MaxPooling2D(pool_size=(2, 2))(conv1)\n",
        "\n",
        "    conv2 = Conv2D(128, 3, activation='relu', padding='same')(pool1)\n",
        "    conv2 = Conv2D(128, 3, activation='relu', padding='same')(conv2)\n",
        "    pool2 = MaxPooling2D(pool_size=(2, 2))(conv2)\n",
        "\n",
        "    conv3 = Conv2D(256, 3, activation='relu', padding='same')(pool2)\n",
        "    conv3 = Conv2D(256, 3, activation='relu', padding='same')(conv3)\n",
        "    pool3 = MaxPooling2D(pool_size=(2, 2))(conv3)\n",
        "\n",
        "    # Intermediate output from the encoder\n",
        "    intermediate_output = conv3\n",
        "\n",
        "    # Decoder\n",
        "    up3 = Conv2DTranspose(128, (2, 2), strides=(2, 2), padding='same')(conv3)\n",
        "    up3 = concatenate([up3, conv2], axis=3)\n",
        "    conv4 = Conv2D(128, 3, activation='relu', padding='same')(up3)\n",
        "    conv4 = Conv2D(128, 3, activation='relu', padding='same')(conv4)\n",
        "\n",
        "    up2 = Conv2DTranspose(64, (2, 2), strides=(2, 2), padding='same')(conv4)\n",
        "    up2 = concatenate([up2, conv1], axis=3)\n",
        "    conv5 = Conv2D(64, 3, activation='relu', padding='same')(up2)\n",
        "    conv5 = Conv2D(64, 3, activation='relu', padding='same')(conv5)\n",
        "\n",
        "    # Output layer for segmentation map\n",
        "    outputs = Conv2D(1, (1, 1), activation='sigmoid')(conv5)\n",
        "\n",
        "    # Convolutional layer to reduce channels to 3 for feature illustration\n",
        "    reduced_output = Conv2D(3, (1, 1), activation='relu')(intermediate_output)\n",
        "\n",
        "    # Define the UNet model\n",
        "    model = Model(inputs=[inputs], outputs=[outputs, reduced_output])\n",
        "    return model\n",
        "\n",
        "# Create and return the UNet model\n"
      ]
    },
    {
      "cell_type": "markdown",
      "source": [
        "Combining UNet and MobileNet for Segmentation and Classification Tasks"
      ],
      "metadata": {
        "id": "npI3gnfwHYfK"
      }
    },
    {
      "cell_type": "code",
      "execution_count": null,
      "metadata": {
        "colab": {
          "base_uri": "https://localhost:8080/"
        },
        "id": "Tcqflj0a8ygQ",
        "outputId": "4c8e5587-96b9-4b85-f846-b576d58e24dd"
      },
      "outputs": [
        {
          "name": "stderr",
          "output_type": "stream",
          "text": [
            "WARNING:tensorflow:`input_shape` is undefined or non-square, or `rows` is not in [128, 160, 192, 224]. Weights for input shape (224, 224) will be loaded as the default.\n"
          ]
        },
        {
          "name": "stdout",
          "output_type": "stream",
          "text": [
            "KerasTensor(type_spec=TensorSpec(shape=(None, 64, 64, 256), dtype=tf.float32, name=None), name='conv2d_5/Relu:0', description=\"created by layer 'conv2d_5'\")\n",
            "Downloading data from https://storage.googleapis.com/tensorflow/keras-applications/mobilenet/mobilenet_1_0_224_tf_no_top.h5\n",
            "17225924/17225924 [==============================] - 2s 0us/step\n",
            "Model: \"model_1\"\n",
            "_________________________________________________________________\n",
            " Layer (type)                Output Shape              Param #   \n",
            "=================================================================\n",
            " input_3 (InputLayer)        [(None, 256, 256, 3)]     0         \n",
            "                                                                 \n",
            " model (Functional)          [(None, 256, 256, 1),     1863620   \n",
            "                              (None, 64, 64, 3)]                 \n",
            "                                                                 \n",
            " up_sampling2d (UpSampling2  (None, 256, 256, 3)       0         \n",
            " D)                                                              \n",
            "                                                                 \n",
            " tf.math.truediv (TFOpLambd  (None, 256, 256, 3)       0         \n",
            " a)                                                              \n",
            "                                                                 \n",
            " tf.math.subtract (TFOpLamb  (None, 256, 256, 3)       0         \n",
            " da)                                                             \n",
            "                                                                 \n",
            " sequential (Sequential)     (None, 5)                 5072229   \n",
            "                                                                 \n",
            "=================================================================\n",
            "Total params: 6935849 (26.46 MB)\n",
            "Trainable params: 6913193 (26.37 MB)\n",
            "Non-trainable params: 22656 (88.50 KB)\n",
            "_________________________________________________________________\n"
          ]
        }
      ],
      "source": [
        "from tensorflow.keras.models import Model\n",
        "from tensorflow.keras.layers import GlobalAveragePooling2D, Dropout, Dense, Conv2D, MaxPooling2D, Flatten, Input, UpSampling2D\n",
        "from tensorflow.keras.applications import MobileNet\n",
        "from tensorflow.keras.applications.mobilenet import preprocess_input\n",
        "from tensorflow.keras.layers import BatchNormalization\n",
        "from tensorflow.keras.regularizers import l2\n",
        "\n",
        "def classification_model(input_shape, num_classes, trainable_layers=None):\n",
        "    # Load the pre-trained MobileNet model without the top classification layer\n",
        "    base_mobilenet = MobileNet(include_top=False, weights='imagenet', input_shape=input_shape)\n",
        "\n",
        "    # Freeze or unfreeze layers based on the specified list\n",
        "    if trainable_layers is not None:\n",
        "        for layer in base_mobilenet.layers:\n",
        "            if layer.name in trainable_layers:\n",
        "                layer.trainable = True\n",
        "            else:\n",
        "                layer.trainable = False\n",
        "\n",
        "    # Define the custom classification model architecture\n",
        "    custom_model = models.Sequential()\n",
        "\n",
        "    # Add the pre-trained MobileNet base model\n",
        "    custom_model.add(base_mobilenet)\n",
        "\n",
        "    # Add custom convolutional layers\n",
        "    custom_model.add(Conv2D(32, (3, 3), activation='relu', padding='same', dilation_rate=(2, 2), kernel_regularizer=l2(0.001)))\n",
        "    custom_model.add(Conv2D(64, (3, 3), padding='same', dilation_rate=(2, 2), kernel_regularizer=l2(0.001)))\n",
        "    custom_model.add(BatchNormalization())\n",
        "    custom_model.add(Dropout(0.1))\n",
        "\n",
        "    custom_model.add(Conv2D(128, (3, 3), activation='relu', padding='same', dilation_rate=(2, 2), kernel_regularizer=l2(0.001)))\n",
        "    custom_model.add(MaxPooling2D((2, 2), strides=(2, 2), padding='same'))\n",
        "    custom_model.add(Conv2D(256, (3, 3), activation='relu', padding='same', dilation_rate=(2, 2), kernel_regularizer=l2(0.001)))\n",
        "    custom_model.add(BatchNormalization())\n",
        "\n",
        "    custom_model.add(Conv2D(128, (3, 3), activation='relu', padding='same', dilation_rate=(2, 2), kernel_regularizer=l2(0.001)))\n",
        "    custom_model.add(MaxPooling2D((2, 2), strides=(2, 2), padding='same'))\n",
        "    custom_model.add(Conv2D(64, (3, 3), padding='same', dilation_rate=(2, 2), kernel_regularizer=l2(0.001)))\n",
        "    custom_model.add(BatchNormalization())\n",
        "    custom_model.add(Dropout(0.1))\n",
        "\n",
        "    custom_model.add(Flatten())\n",
        "    custom_model.add(Dense(1024, activation='relu', kernel_regularizer=l2(0.001)))\n",
        "    custom_model.add(Dense(512, activation='relu', kernel_regularizer=l2(0.001)))\n",
        "    custom_model.add(Dropout(0.2))\n",
        "    custom_model.add(Dense(num_classes, activation='softmax'))\n",
        "\n",
        "    return custom_model\n",
        "\n",
        "# Create a UNet model\n",
        "unet_model = unet((256, 256, 3))\n",
        "\n",
        "# Get the UNet's intermediate output shape\n",
        "_, reduced_output = unet_model.outputs\n",
        "\n",
        "# Adjust the shape with 3 channels to match the output from the UNet's intermediate layer\n",
        "reduced_output_shape = (256, 256, 3)\n",
        "\n",
        "# Instantiate the classification model\n",
        "num_classes = 5  # Example number of classes\n",
        "mobilenet_model = classification_model((256, 256, 3), 5)\n",
        "\n",
        "# Create the combined model\n",
        "combined_input = Input(shape=(256, 256, 3))\n",
        "unet_outputs, unet_reduced_output = unet_model(combined_input)\n",
        "\n",
        "# Upsample the output of the UNet model to match the input shape expected by MobileNet\n",
        "upsampled_output = UpSampling2D(size=(4, 4))(unet_reduced_output)  # Upsampling by a factor of 4 to match (64, 64) to (256, 256)\n",
        "\n",
        "# Ensure the upsampled output has the correct shape for MobileNet\n",
        "upsampled_output = preprocess_input(upsampled_output)\n",
        "\n",
        "# Pass the preprocessed output to the MobileNet-based classification model\n",
        "mobilenet_output = mobilenet_model(upsampled_output)\n",
        "\n",
        "# Create the combined model with UNet and classification parts\n",
        "combined_model = Model(inputs=combined_input, outputs=mobilenet_output)\n",
        "combined_model.summary()\n"
      ]
    },
    {
      "cell_type": "markdown",
      "source": [
        "Training the Combined UNet and MobileNet Model with Callbacks"
      ],
      "metadata": {
        "id": "1IELLBraHq9T"
      }
    },
    {
      "cell_type": "code",
      "execution_count": null,
      "metadata": {
        "colab": {
          "base_uri": "https://localhost:8080/",
          "height": 1000
        },
        "id": "99CGWj_y81Pc",
        "outputId": "e26898af-981d-4f41-c6d7-7c5972bd0dbc"
      },
      "outputs": [
        {
          "name": "stdout",
          "output_type": "stream",
          "text": [
            "Epoch 1/40\n"
          ]
        },
        {
          "name": "stderr",
          "output_type": "stream",
          "text": [
            "WARNING:tensorflow:Gradients do not exist for variables ['conv2d_transpose/kernel:0', 'conv2d_transpose/bias:0', 'conv2d_6/kernel:0', 'conv2d_6/bias:0', 'conv2d_7/kernel:0', 'conv2d_7/bias:0', 'conv2d_transpose_1/kernel:0', 'conv2d_transpose_1/bias:0', 'conv2d_8/kernel:0', 'conv2d_8/bias:0', 'conv2d_9/kernel:0', 'conv2d_9/bias:0', 'conv2d_10/kernel:0', 'conv2d_10/bias:0'] when minimizing the loss. If you're using `model.compile()`, did you forget to provide a `loss` argument?\n",
            "WARNING:tensorflow:Gradients do not exist for variables ['conv2d_transpose/kernel:0', 'conv2d_transpose/bias:0', 'conv2d_6/kernel:0', 'conv2d_6/bias:0', 'conv2d_7/kernel:0', 'conv2d_7/bias:0', 'conv2d_transpose_1/kernel:0', 'conv2d_transpose_1/bias:0', 'conv2d_8/kernel:0', 'conv2d_8/bias:0', 'conv2d_9/kernel:0', 'conv2d_9/bias:0', 'conv2d_10/kernel:0', 'conv2d_10/bias:0'] when minimizing the loss. If you're using `model.compile()`, did you forget to provide a `loss` argument?\n",
            "WARNING:tensorflow:Gradients do not exist for variables ['conv2d_transpose/kernel:0', 'conv2d_transpose/bias:0', 'conv2d_6/kernel:0', 'conv2d_6/bias:0', 'conv2d_7/kernel:0', 'conv2d_7/bias:0', 'conv2d_transpose_1/kernel:0', 'conv2d_transpose_1/bias:0', 'conv2d_8/kernel:0', 'conv2d_8/bias:0', 'conv2d_9/kernel:0', 'conv2d_9/bias:0', 'conv2d_10/kernel:0', 'conv2d_10/bias:0'] when minimizing the loss. If you're using `model.compile()`, did you forget to provide a `loss` argument?\n",
            "WARNING:tensorflow:Gradients do not exist for variables ['conv2d_transpose/kernel:0', 'conv2d_transpose/bias:0', 'conv2d_6/kernel:0', 'conv2d_6/bias:0', 'conv2d_7/kernel:0', 'conv2d_7/bias:0', 'conv2d_transpose_1/kernel:0', 'conv2d_transpose_1/bias:0', 'conv2d_8/kernel:0', 'conv2d_8/bias:0', 'conv2d_9/kernel:0', 'conv2d_9/bias:0', 'conv2d_10/kernel:0', 'conv2d_10/bias:0'] when minimizing the loss. If you're using `model.compile()`, did you forget to provide a `loss` argument?\n"
          ]
        },
        {
          "name": "stdout",
          "output_type": "stream",
          "text": [
            "253/253 [==============================] - ETA: 0s - loss: 2.0811 - accuracy: 0.5903\n",
            "Epoch 1: val_accuracy improved from -inf to 0.56250, saving model to /model/best_model.h5\n"
          ]
        },
        {
          "name": "stderr",
          "output_type": "stream",
          "text": [
            "/usr/local/lib/python3.10/dist-packages/keras/src/engine/training.py:3103: UserWarning: You are saving your model as an HDF5 file via `model.save()`. This file format is considered legacy. We recommend using instead the native Keras format, e.g. `model.save('my_model.keras')`.\n",
            "  saving_api.save_model(\n"
          ]
        },
        {
          "name": "stdout",
          "output_type": "stream",
          "text": [
            "\b\b\b\b\b\b\b\b\b\b\b\b\b\b\b\b\b\b\b\b\b\b\b\b\b\b\b\b\b\b\b\b\b\b\b\b\b\b\b\b\b\b\b\b\b\b\b\b\b\b\b\b\b\b\b\b\b\b\b\b\b\b\b\b\b\b\b\b\b\b\b\b\b\b\b\b\b\b\b\b\b\b\b\b\r253/253 [==============================] - 222s 715ms/step - loss: 2.0811 - accuracy: 0.5903 - val_loss: 1.7434 - val_accuracy: 0.5625 - lr: 0.0010\n",
            "Epoch 2/40\n",
            "253/253 [==============================] - ETA: 0s - loss: 1.2499 - accuracy: 0.6985\n",
            "Epoch 2: val_accuracy improved from 0.56250 to 0.61111, saving model to /model/best_model.h5\n",
            "253/253 [==============================] - 177s 702ms/step - loss: 1.2499 - accuracy: 0.6985 - val_loss: 1.6620 - val_accuracy: 0.6111 - lr: 0.0010\n",
            "Epoch 3/40\n",
            "253/253 [==============================] - ETA: 0s - loss: 0.8828 - accuracy: 0.7548\n",
            "Epoch 3: val_accuracy did not improve from 0.61111\n",
            "253/253 [==============================] - 177s 699ms/step - loss: 0.8828 - accuracy: 0.7548 - val_loss: 1.2677 - val_accuracy: 0.5914 - lr: 0.0010\n",
            "Epoch 4/40\n",
            "253/253 [==============================] - ETA: 0s - loss: 0.7142 - accuracy: 0.7751\n",
            "Epoch 4: val_accuracy did not improve from 0.61111\n",
            "253/253 [==============================] - 177s 699ms/step - loss: 0.7142 - accuracy: 0.7751 - val_loss: 0.9669 - val_accuracy: 0.6088 - lr: 0.0010\n",
            "Epoch 5/40\n",
            "253/253 [==============================] - ETA: 0s - loss: 0.6172 - accuracy: 0.7977\n",
            "Epoch 5: val_accuracy improved from 0.61111 to 0.69792, saving model to /model/best_model.h5\n",
            "253/253 [==============================] - 177s 699ms/step - loss: 0.6172 - accuracy: 0.7977 - val_loss: 0.9596 - val_accuracy: 0.6979 - lr: 0.0010\n",
            "Epoch 6/40\n",
            "253/253 [==============================] - ETA: 0s - loss: 0.5557 - accuracy: 0.8197\n",
            "Epoch 6: val_accuracy did not improve from 0.69792\n",
            "253/253 [==============================] - 176s 697ms/step - loss: 0.5557 - accuracy: 0.8197 - val_loss: 0.8600 - val_accuracy: 0.6817 - lr: 0.0010\n",
            "Epoch 7/40\n",
            "253/253 [==============================] - ETA: 0s - loss: 0.5029 - accuracy: 0.8339\n",
            "Epoch 7: val_accuracy did not improve from 0.69792\n",
            "\n",
            "Epoch 7: ReduceLROnPlateau reducing learning rate to 0.0005000000237487257.\n",
            "253/253 [==============================] - 176s 698ms/step - loss: 0.5029 - accuracy: 0.8339 - val_loss: 0.9371 - val_accuracy: 0.6875 - lr: 0.0010\n",
            "Epoch 8/40\n",
            "253/253 [==============================] - ETA: 0s - loss: 0.3435 - accuracy: 0.8897\n",
            "Epoch 8: val_accuracy improved from 0.69792 to 0.71759, saving model to /model/best_model.h5\n",
            "253/253 [==============================] - 176s 697ms/step - loss: 0.3435 - accuracy: 0.8897 - val_loss: 0.8060 - val_accuracy: 0.7176 - lr: 5.0000e-04\n",
            "Epoch 9/40\n",
            "253/253 [==============================] - ETA: 0s - loss: 0.2738 - accuracy: 0.9177\n",
            "Epoch 9: val_accuracy improved from 0.71759 to 0.72454, saving model to /model/best_model.h5\n",
            "\n",
            "Epoch 9: ReduceLROnPlateau reducing learning rate to 0.0002500000118743628.\n",
            "253/253 [==============================] - 176s 695ms/step - loss: 0.2738 - accuracy: 0.9177 - val_loss: 0.9082 - val_accuracy: 0.7245 - lr: 5.0000e-04\n",
            "Epoch 10/40\n",
            "253/253 [==============================] - ETA: 0s - loss: 0.1905 - accuracy: 0.9453\n",
            "Epoch 10: val_accuracy improved from 0.72454 to 0.74653, saving model to /model/best_model.h5\n",
            "253/253 [==============================] - 177s 699ms/step - loss: 0.1905 - accuracy: 0.9453 - val_loss: 0.7983 - val_accuracy: 0.7465 - lr: 2.5000e-04\n",
            "Epoch 11/40\n",
            "253/253 [==============================] - ETA: 0s - loss: 0.1621 - accuracy: 0.9592\n",
            "Epoch 11: val_accuracy did not improve from 0.74653\n",
            "\n",
            "Epoch 11: ReduceLROnPlateau reducing learning rate to 0.0001250000059371814.\n",
            "253/253 [==============================] - 176s 697ms/step - loss: 0.1621 - accuracy: 0.9592 - val_loss: 0.9428 - val_accuracy: 0.7141 - lr: 2.5000e-04\n",
            "Epoch 12/40\n",
            "253/253 [==============================] - ETA: 0s - loss: 0.1035 - accuracy: 0.9774\n",
            "Epoch 12: val_accuracy improved from 0.74653 to 0.78588, saving model to /model/best_model.h5\n",
            "\n",
            "Epoch 12: ReduceLROnPlateau reducing learning rate to 6.25000029685907e-05.\n",
            "253/253 [==============================] - 176s 698ms/step - loss: 0.1035 - accuracy: 0.9774 - val_loss: 0.8610 - val_accuracy: 0.7859 - lr: 1.2500e-04\n",
            "Epoch 13/40\n",
            "253/253 [==============================] - ETA: 0s - loss: 0.0796 - accuracy: 0.9855\n",
            "Epoch 13: val_accuracy did not improve from 0.78588\n",
            "\n",
            "Epoch 13: ReduceLROnPlateau reducing learning rate to 3.125000148429535e-05.\n",
            "253/253 [==============================] - 175s 693ms/step - loss: 0.0796 - accuracy: 0.9855 - val_loss: 0.9463 - val_accuracy: 0.7778 - lr: 6.2500e-05\n",
            "Epoch 14/40\n",
            "253/253 [==============================] - ETA: 0s - loss: 0.0631 - accuracy: 0.9902\n",
            "Epoch 14: val_accuracy did not improve from 0.78588\n",
            "\n",
            "Epoch 14: ReduceLROnPlateau reducing learning rate to 1.5625000742147677e-05.\n",
            "253/253 [==============================] - 175s 692ms/step - loss: 0.0631 - accuracy: 0.9902 - val_loss: 0.9757 - val_accuracy: 0.7859 - lr: 3.1250e-05\n",
            "Epoch 15/40\n",
            "253/253 [==============================] - ETA: 0s - loss: 0.0571 - accuracy: 0.9932\n",
            "Epoch 15: val_accuracy did not improve from 0.78588\n",
            "\n",
            "Epoch 15: ReduceLROnPlateau reducing learning rate to 1e-05.\n",
            "253/253 [==============================] - 176s 696ms/step - loss: 0.0571 - accuracy: 0.9932 - val_loss: 1.1174 - val_accuracy: 0.7639 - lr: 1.5625e-05\n",
            "Epoch 16/40\n",
            "253/253 [==============================] - ETA: 0s - loss: 0.0597 - accuracy: 0.9925\n",
            "Epoch 16: val_accuracy improved from 0.78588 to 0.80671, saving model to /model/best_model.h5\n",
            "253/253 [==============================] - 177s 698ms/step - loss: 0.0597 - accuracy: 0.9925 - val_loss: 0.8787 - val_accuracy: 0.8067 - lr: 1.0000e-05\n",
            "Epoch 17/40\n",
            "253/253 [==============================] - ETA: 0s - loss: 0.0538 - accuracy: 0.9949\n",
            "Epoch 17: val_accuracy did not improve from 0.80671\n",
            "253/253 [==============================] - 176s 696ms/step - loss: 0.0538 - accuracy: 0.9949 - val_loss: 0.9336 - val_accuracy: 0.8044 - lr: 1.0000e-05\n",
            "Epoch 18/40\n",
            "253/253 [==============================] - ETA: 0s - loss: 0.0534 - accuracy: 0.9941\n",
            "Epoch 18: val_accuracy did not improve from 0.80671\n",
            "Restoring model weights from the end of the best epoch: 10.\n",
            "253/253 [==============================] - 175s 693ms/step - loss: 0.0534 - accuracy: 0.9941 - val_loss: 1.0668 - val_accuracy: 0.7789 - lr: 1.0000e-05\n",
            "Epoch 18: early stopping\n"
          ]
        },
        {
          "data": {
            "application/vnd.google.colaboratory.intrinsic+json": {
              "type": "string"
            },
            "text/plain": [
              "'/content/drive/MyDrive/mobilenetwithout1class'"
            ]
          },
          "execution_count": 12,
          "metadata": {},
          "output_type": "execute_result"
        }
      ],
      "source": [
        "from tensorflow.keras.callbacks import ReduceLROnPlateau, EarlyStopping, ModelCheckpoint\n",
        "import shutil\n",
        "\n",
        "# Define callbacks for learning rate reduction, early stopping, and model checkpointing\n",
        "lr_reduction = ReduceLROnPlateau(monitor='val_loss', patience=1, verbose=1, factor=0.5, min_lr=0.00001)\n",
        "early_stopping = EarlyStopping(monitor='val_loss', patience=8, verbose=1, restore_best_weights=True)\n",
        "checkpoint = ModelCheckpoint('/model/best_model.h5', monitor='val_accuracy', save_best_only=True, mode='max', verbose=1)\n",
        "callbacks_list = [checkpoint, lr_reduction, early_stopping]\n",
        "\n",
        "# Calculate steps per epoch for training and validation\n",
        "steps_per_epoch_train = len(train_image_paths) // batch_size\n",
        "steps_per_epoch_val = len(val_image_paths) // batch_size\n",
        "\n",
        "# Calculate the number of steps for validation\n",
        "validation_steps = len(val_image_paths) // batch_size\n",
        "\n",
        "# Compile the combined model\n",
        "combined_model.compile(optimizer='adam', loss='categorical_crossentropy', metrics=['accuracy'])\n",
        "\n",
        "# Train the combined model\n",
        "history = combined_model.fit(\n",
        "    train_generator,\n",
        "    epochs=40,\n",
        "    validation_data=val_generator,\n",
        "    steps_per_epoch=steps_per_epoch_train,\n",
        "    validation_steps=validation_steps,\n",
        "    callbacks=callbacks_list\n",
        ")\n"
      ]
    },
    {
      "cell_type": "markdown",
      "source": [
        "Saving and Copying the Trained Model to Google Drive"
      ],
      "metadata": {
        "id": "1X020Gq-IHw8"
      }
    },
    {
      "cell_type": "code",
      "execution_count": null,
      "metadata": {
        "colab": {
          "base_uri": "https://localhost:8080/",
          "height": 35
        },
        "id": "EKp-_pT1858O",
        "outputId": "7c802f23-222b-4e52-c390-ee19becdc973"
      },
      "outputs": [
        {
          "data": {
            "application/vnd.google.colaboratory.intrinsic+json": {
              "type": "string"
            },
            "text/plain": [
              "'/content/drive/MyDrive/mobilenetwithmodifiedlayerwith4classes'"
            ]
          },
          "execution_count": 13,
          "metadata": {},
          "output_type": "execute_result"
        }
      ],
      "source": [
        "colab_model_path = '/model/best_model.h5'\n",
        "\n",
        "# Save the trained model locally\n",
        "combined_model.save(colab_model_path)\n",
        "\n",
        "# Define the path for the best model in Google Drive\n",
        "drive_model_path = '/content/drive/MyDrive/mobilenetwithmodifiedlayerwith4classes'\n",
        "\n",
        "# Copy the trained model from the local directory to Google Drive\n",
        "shutil.copy(colab_model_path, drive_model_path)\n"
      ]
    },
    {
      "cell_type": "markdown",
      "source": [
        "Extracting and Visualizing Training Metrics from Log Text"
      ],
      "metadata": {
        "id": "q-zg93rsIXBb"
      }
    },
    {
      "cell_type": "code",
      "execution_count": null,
      "metadata": {
        "colab": {
          "base_uri": "https://localhost:8080/",
          "height": 1000
        },
        "id": "cV3cN0e4a4mk",
        "outputId": "258d0ab7-0efe-4bba-f52c-1b3effaf182f"
      },
      "outputs": [
        {
          "name": "stdout",
          "output_type": "stream",
          "text": [
            "Epochs: 18\n",
            "Validation Accuracy: 18\n",
            "Validation Loss: 18\n",
            "Accuracy: 36\n",
            "Loss: 36\n"
          ]
        },
        {
          "data": {
            "image/png": "[encoded data removed]",
            "text/plain": [
              "<Figure size 1000x500 with 1 Axes>"
            ]
          },
          "metadata": {},
          "output_type": "display_data"
        },
        {
          "data": {
            "image/png": "[encoded data removed]",
            "text/plain": [
              "<Figure size 1000x500 with 1 Axes>"
            ]
          },
          "metadata": {},
          "output_type": "display_data"
        }
      ],
      "source": [
        "import re\n",
        "import matplotlib.pyplot as plt\n",
        "\n",
        "# Initialize lists to store values\n",
        "epochs = []\n",
        "val_accuracy = []\n",
        "val_loss = []\n",
        "accuracy = []\n",
        "loss = []\n",
        "\n",
        "text=\"\"\"Epoch 1/40\n",
        "WARNING:tensorflow:Gradients do not exist for variables ['conv2d_transpose/kernel:0', 'conv2d_transpose/bias:0', 'conv2d_6/kernel:0', 'conv2d_6/bias:0', 'conv2d_7/kernel:0', 'conv2d_7/bias:0', 'conv2d_transpose_1/kernel:0', 'conv2d_transpose_1/bias:0', 'conv2d_8/kernel:0', 'conv2d_8/bias:0', 'conv2d_9/kernel:0', 'conv2d_9/bias:0', 'conv2d_10/kernel:0', 'conv2d_10/bias:0'] when minimizing the loss. If you're using `model.compile()`, did you forget to provide a `loss` argument?\n",
        "WARNING:tensorflow:Gradients do not exist for variables ['conv2d_transpose/kernel:0', 'conv2d_transpose/bias:0', 'conv2d_6/kernel:0', 'conv2d_6/bias:0', 'conv2d_7/kernel:0', 'conv2d_7/bias:0', 'conv2d_transpose_1/kernel:0', 'conv2d_transpose_1/bias:0', 'conv2d_8/kernel:0', 'conv2d_8/bias:0', 'conv2d_9/kernel:0', 'conv2d_9/bias:0', 'conv2d_10/kernel:0', 'conv2d_10/bias:0'] when minimizing the loss. If you're using `model.compile()`, did you forget to provide a `loss` argument?\n",
        "WARNING:tensorflow:Gradients do not exist for variables ['conv2d_transpose/kernel:0', 'conv2d_transpose/bias:0', 'conv2d_6/kernel:0', 'conv2d_6/bias:0', 'conv2d_7/kernel:0', 'conv2d_7/bias:0', 'conv2d_transpose_1/kernel:0', 'conv2d_transpose_1/bias:0', 'conv2d_8/kernel:0', 'conv2d_8/bias:0', 'conv2d_9/kernel:0', 'conv2d_9/bias:0', 'conv2d_10/kernel:0', 'conv2d_10/bias:0'] when minimizing the loss. If you're using `model.compile()`, did you forget to provide a `loss` argument?\n",
        "WARNING:tensorflow:Gradients do not exist for variables ['conv2d_transpose/kernel:0', 'conv2d_transpose/bias:0', 'conv2d_6/kernel:0', 'conv2d_6/bias:0', 'conv2d_7/kernel:0', 'conv2d_7/bias:0', 'conv2d_transpose_1/kernel:0', 'conv2d_transpose_1/bias:0', 'conv2d_8/kernel:0', 'conv2d_8/bias:0', 'conv2d_9/kernel:0', 'conv2d_9/bias:0', 'conv2d_10/kernel:0', 'conv2d_10/bias:0'] when minimizing the loss. If you're using `model.compile()`, did you forget to provide a `loss` argument?\n",
        "253/253 [==============================] - ETA: 0s - loss: 2.0811 - accuracy: 0.5903\n",
        "Epoch 1: val_accuracy improved from -inf to 0.56250, saving model to /model/best_model.h5\n",
        "/usr/local/lib/python3.10/dist-packages/keras/src/engine/training.py:3103: UserWarning: You are saving your model as an HDF5 file via `model.save()`. This file format is considered legacy. We recommend using instead the native Keras format, e.g. `model.save('my_model.keras')`.\n",
        "  saving_api.save_model(\n",
        "253/253 [==============================] - 222s 715ms/step - loss: 2.0811 - accuracy: 0.5903 - val_loss: 1.7434 - val_accuracy: 0.5625 - lr: 0.0010\n",
        "Epoch 2/40\n",
        "253/253 [==============================] - ETA: 0s - loss: 1.2499 - accuracy: 0.6985\n",
        "Epoch 2: val_accuracy improved from 0.56250 to 0.61111, saving model to /model/best_model.h5\n",
        "253/253 [==============================] - 177s 702ms/step - loss: 1.2499 - accuracy: 0.6985 - val_loss: 1.6620 - val_accuracy: 0.6111 - lr: 0.0010\n",
        "Epoch 3/40\n",
        "253/253 [==============================] - ETA: 0s - loss: 0.8828 - accuracy: 0.7548\n",
        "Epoch 3: val_accuracy did not improve from 0.61111\n",
        "253/253 [==============================] - 177s 699ms/step - loss: 0.8828 - accuracy: 0.7548 - val_loss: 1.2677 - val_accuracy: 0.5914 - lr: 0.0010\n",
        "Epoch 4/40\n",
        "253/253 [==============================] - ETA: 0s - loss: 0.7142 - accuracy: 0.7751\n",
        "Epoch 4: val_accuracy did not improve from 0.61111\n",
        "253/253 [==============================] - 177s 699ms/step - loss: 0.7142 - accuracy: 0.7751 - val_loss: 0.9669 - val_accuracy: 0.6088 - lr: 0.0010\n",
        "Epoch 5/40\n",
        "253/253 [==============================] - ETA: 0s - loss: 0.6172 - accuracy: 0.7977\n",
        "Epoch 5: val_accuracy improved from 0.61111 to 0.69792, saving model to /model/best_model.h5\n",
        "253/253 [==============================] - 177s 699ms/step - loss: 0.6172 - accuracy: 0.7977 - val_loss: 0.9596 - val_accuracy: 0.6979 - lr: 0.0010\n",
        "Epoch 6/40\n",
        "253/253 [==============================] - ETA: 0s - loss: 0.5557 - accuracy: 0.8197\n",
        "Epoch 6: val_accuracy did not improve from 0.69792\n",
        "253/253 [==============================] - 176s 697ms/step - loss: 0.5557 - accuracy: 0.8197 - val_loss: 0.8600 - val_accuracy: 0.6817 - lr: 0.0010\n",
        "Epoch 7/40\n",
        "253/253 [==============================] - ETA: 0s - loss: 0.5029 - accuracy: 0.8339\n",
        "Epoch 7: val_accuracy did not improve from 0.69792\n",
        "\n",
        "Epoch 7: ReduceLROnPlateau reducing learning rate to 0.0005000000237487257.\n",
        "253/253 [==============================] - 176s 698ms/step - loss: 0.5029 - accuracy: 0.8339 - val_loss: 0.9371 - val_accuracy: 0.6875 - lr: 0.0010\n",
        "Epoch 8/40\n",
        "253/253 [==============================] - ETA: 0s - loss: 0.3435 - accuracy: 0.8897\n",
        "Epoch 8: val_accuracy improved from 0.69792 to 0.71759, saving model to /model/best_model.h5\n",
        "253/253 [==============================] - 176s 697ms/step - loss: 0.3435 - accuracy: 0.8897 - val_loss: 0.8060 - val_accuracy: 0.7176 - lr: 5.0000e-04\n",
        "Epoch 9/40\n",
        "253/253 [==============================] - ETA: 0s - loss: 0.2738 - accuracy: 0.9177\n",
        "Epoch 9: val_accuracy improved from 0.71759 to 0.72454, saving model to /model/best_model.h5\n",
        "\n",
        "Epoch 9: ReduceLROnPlateau reducing learning rate to 0.0002500000118743628.\n",
        "253/253 [==============================] - 176s 695ms/step - loss: 0.2738 - accuracy: 0.9177 - val_loss: 0.9082 - val_accuracy: 0.7245 - lr: 5.0000e-04\n",
        "Epoch 10/40\n",
        "253/253 [==============================] - ETA: 0s - loss: 0.1905 - accuracy: 0.9453\n",
        "Epoch 10: val_accuracy improved from 0.72454 to 0.74653, saving model to /model/best_model.h5\n",
        "253/253 [==============================] - 177s 699ms/step - loss: 0.1905 - accuracy: 0.9453 - val_loss: 0.7983 - val_accuracy: 0.7465 - lr: 2.5000e-04\n",
        "Epoch 11/40\n",
        "253/253 [==============================] - ETA: 0s - loss: 0.1621 - accuracy: 0.9592\n",
        "Epoch 11: val_accuracy did not improve from 0.74653\n",
        "\n",
        "Epoch 11: ReduceLROnPlateau reducing learning rate to 0.0001250000059371814.\n",
        "253/253 [==============================] - 176s 697ms/step - loss: 0.1621 - accuracy: 0.9592 - val_loss: 0.9428 - val_accuracy: 0.7141 - lr: 2.5000e-04\n",
        "Epoch 12/40\n",
        "253/253 [==============================] - ETA: 0s - loss: 0.1035 - accuracy: 0.9774\n",
        "Epoch 12: val_accuracy improved from 0.74653 to 0.78588, saving model to /model/best_model.h5\n",
        "\n",
        "Epoch 12: ReduceLROnPlateau reducing learning rate to 6.25000029685907e-05.\n",
        "253/253 [==============================] - 176s 698ms/step - loss: 0.1035 - accuracy: 0.9774 - val_loss: 0.8610 - val_accuracy: 0.7859 - lr: 1.2500e-04\n",
        "Epoch 13/40\n",
        "253/253 [==============================] - ETA: 0s - loss: 0.0796 - accuracy: 0.9855\n",
        "Epoch 13: val_accuracy did not improve from 0.78588\n",
        "\n",
        "Epoch 13: ReduceLROnPlateau reducing learning rate to 3.125000148429535e-05.\n",
        "253/253 [==============================] - 175s 693ms/step - loss: 0.0796 - accuracy: 0.9855 - val_loss: 0.9463 - val_accuracy: 0.7778 - lr: 6.2500e-05\n",
        "Epoch 14/40\n",
        "253/253 [==============================] - ETA: 0s - loss: 0.0631 - accuracy: 0.9902\n",
        "Epoch 14: val_accuracy did not improve from 0.78588\n",
        "\n",
        "Epoch 14: ReduceLROnPlateau reducing learning rate to 1.5625000742147677e-05.\n",
        "253/253 [==============================] - 175s 692ms/step - loss: 0.0631 - accuracy: 0.9902 - val_loss: 0.9757 - val_accuracy: 0.7859 - lr: 3.1250e-05\n",
        "Epoch 15/40\n",
        "253/253 [==============================] - ETA: 0s - loss: 0.0571 - accuracy: 0.9932\n",
        "Epoch 15: val_accuracy did not improve from 0.78588\n",
        "\n",
        "Epoch 15: ReduceLROnPlateau reducing learning rate to 1e-05.\n",
        "253/253 [==============================] - 176s 696ms/step - loss: 0.0571 - accuracy: 0.9932 - val_loss: 1.1174 - val_accuracy: 0.7639 - lr: 1.5625e-05\n",
        "Epoch 16/40\n",
        "253/253 [==============================] - ETA: 0s - loss: 0.0597 - accuracy: 0.9925\n",
        "Epoch 16: val_accuracy improved from 0.78588 to 0.80671, saving model to /model/best_model.h5\n",
        "253/253 [==============================] - 177s 698ms/step - loss: 0.0597 - accuracy: 0.9925 - val_loss: 0.8787 - val_accuracy: 0.8067 - lr: 1.0000e-05\n",
        "Epoch 17/40\n",
        "253/253 [==============================] - ETA: 0s - loss: 0.0538 - accuracy: 0.9949\n",
        "Epoch 17: val_accuracy did not improve from 0.80671\n",
        "253/253 [==============================] - 176s 696ms/step - loss: 0.0538 - accuracy: 0.9949 - val_loss: 0.9336 - val_accuracy: 0.8044 - lr: 1.0000e-05\n",
        "Epoch 18/40\n",
        "253/253 [==============================] - ETA: 0s - loss: 0.0534 - accuracy: 0.9941\n",
        "Epoch 18: val_accuracy did not improve from 0.80671\n",
        "Restoring model weights from the end of the best epoch: 10.\n",
        "253/253 [==============================] - 175s 693ms/step - loss: 0.0534 - accuracy: 0.9941 - val_loss: 1.0668 - val_accuracy: 0.7789 - lr: 1.0000e-05\n",
        "Epoch 18: early stopping\n",
        "/content/drive/MyDrive/mobilenetwithout1class\"\"\"\n",
        "# Split the text by lines\n",
        "lines = text.split('\\n')\n",
        "\n",
        "# Extract data from the logger\n",
        "for line in lines:\n",
        "    # Extract epoch number\n",
        "    epoch_match = re.match(r'Epoch (\\d+)/\\d+', line)\n",
        "    if epoch_match:\n",
        "        epochs.append(int(epoch_match.group(1)))\n",
        "\n",
        "    # Extract validation accuracy\n",
        "    val_acc_match = re.search(r'val_accuracy: ([\\d.]+)', line)\n",
        "    if val_acc_match:\n",
        "        val_accuracy.append(float(val_acc_match.group(1)))\n",
        "\n",
        "    # Extract validation loss\n",
        "    val_loss_match = re.search(r'val_loss: ([\\d.]+)', line)\n",
        "    if val_loss_match:\n",
        "        val_loss.append(float(val_loss_match.group(1)))\n",
        "\n",
        "    # Extract accuracy\n",
        "    acc_match = re.search(r'accuracy: ([\\d.]+)', line)\n",
        "    if acc_match:\n",
        "        accuracy.append(float(acc_match.group(1)))\n",
        "\n",
        "    # Extract loss\n",
        "    loss_match = re.search(r'loss: ([\\d.]+)', line)\n",
        "    if loss_match:\n",
        "        loss.append(float(loss_match.group(1)))\n",
        "\n",
        "print(\"Epochs:\", len(epochs))\n",
        "print(\"Validation Accuracy:\", len(val_accuracy))\n",
        "print(\"Validation Loss:\", len(val_loss))\n",
        "print(\"Accuracy:\", len(accuracy))\n",
        "print(\"Loss:\", len(loss))\n",
        "\n",
        "epochs = epochs[:16]\n",
        "val_accuracy = val_accuracy[:16]\n",
        "val_loss = val_loss[:16]\n",
        "accuracy = accuracy[:16]\n",
        "loss = loss[:16]\n",
        "\n",
        "plt.figure(figsize=(10, 5))\n",
        "plt.plot(epochs, val_accuracy, label='Validation Accuracy', marker='o')\n",
        "plt.plot(epochs, accuracy, label='Accuracy', marker='x')\n",
        "plt.title('Accuracy vs. Validation Accuracy')\n",
        "plt.xlabel('Validation Accuracy')\n",
        "plt.ylabel('Accuracy')\n",
        "plt.legend()\n",
        "plt.grid(True)\n",
        "plt.show()\n",
        "\n",
        "# Plot validation loss (val_loss) and loss\n",
        "plt.figure(figsize=(10, 5))\n",
        "plt.plot(epochs, val_loss, label='Validation Loss', marker='o')\n",
        "plt.plot(epochs, loss, label='Loss', marker='x')\n",
        "plt.title('Loss vs. Val Loss')\n",
        "plt.xlabel('Val Loss')\n",
        "plt.ylabel('Loss')\n",
        "plt.legend()\n",
        "plt.grid(True)\n",
        "plt.show()"
      ]
    },
    {
      "cell_type": "markdown",
      "source": [
        "Generating Predictions and True Labels for Test Set"
      ],
      "metadata": {
        "id": "I6Z4FUIaIr7U"
      }
    },
    {
      "cell_type": "code",
      "execution_count": null,
      "metadata": {
        "colab": {
          "base_uri": "https://localhost:8080/"
        },
        "id": "9VHOadcA8-eO",
        "outputId": "d8e52d16-18cc-450c-9851-4222ef130226"
      },
      "outputs": [
        {
          "name": "stdout",
          "output_type": "stream",
          "text": [
            "Found 891 images belonging to 4 classes.\n"
          ]
        },
        {
          "name": "stderr",
          "output_type": "stream",
          "text": [
            "<ipython-input-14-aaf8424ec3f3>:41: UserWarning: `Model.predict_generator` is deprecated and will be removed in a future version. Please use `Model.predict`, which supports generators.\n",
            "  y_pred=loaded_model.predict_generator(test_generator,steps=len(test_generator),verbose=1)\n"
          ]
        },
        {
          "name": "stdout",
          "output_type": "stream",
          "text": [
            "28/28 [==============================] - 12s 374ms/step\n"
          ]
        }
      ],
      "source": [
        "import numpy as np\n",
        "import matplotlib.pyplot as plt\n",
        "import itertools\n",
        "import os\n",
        "from keras.preprocessing.image import ImageDataGenerator\n",
        "from google.colab import drive\n",
        "from keras.models import load_model\n",
        "\n",
        "# Set image dimensions\n",
        "img_shape = (256, 256, 3)\n",
        "\n",
        "# Set the number of classes\n",
        "num_classes = 5\n",
        "\n",
        "# Set batch size for generating predictions\n",
        "batch_size = 32\n",
        "\n",
        "# Define the paths to your data\n",
        "train_path = '/content/final_splitted_new_dataset/train'\n",
        "val_path = '/content/final_splitted_new_dataset/val'\n",
        "test_path = '/content/final_splitted_new_dataset/test'\n",
        "\n",
        "# Define the classes\n",
        "classes = ['0Normal', '2Mild', '3Moderate', '4Severe']\n",
        "\n",
        "# Create data generators for test set\n",
        "test_datagen = ImageDataGenerator(rescale=1./255)\n",
        "\n",
        "test_generator = test_datagen.flow_from_directory(\n",
        "    test_path,\n",
        "    target_size=(img_shape[0], img_shape[1]),\n",
        "    batch_size=batch_size,\n",
        "    class_mode='categorical',\n",
        "    shuffle=False\n",
        ")\n",
        "\n",
        "drive_model_path = '/content/drive/MyDrive/mobilenetwithmodifiedlayerwith4classes'\n",
        "\n",
        "# Load the model\n",
        "loaded_model = load_model(drive_model_path)\n",
        "y_pred=loaded_model.predict_generator(test_generator,steps=len(test_generator),verbose=1)\n",
        "# Generate predictions on the test set\n",
        "# y_pred = combined_model.predict_generator(test_generator, steps=len(test_generator), verbose=1)\n",
        "\n",
        "# Get the true labels of the test set\n",
        "\n"
      ]
    },
    {
      "cell_type": "markdown",
      "source": [
        "Evaluating Model Performance: Confusion Matrix and Classification Report"
      ],
      "metadata": {
        "id": "_P1NqtP0I4TF"
      }
    },
    {
      "cell_type": "code",
      "execution_count": null,
      "metadata": {
        "colab": {
          "base_uri": "https://localhost:8080/",
          "height": 817
        },
        "id": "d6J_KWyNL6ef",
        "outputId": "92d1aa10-a50b-4c29-981b-f3752f295402"
      },
      "outputs": [
        {
          "data": {
            "image/png": "[encoded data removed]",
            "text/plain": [
              "<Figure size 800x600 with 2 Axes>"
            ]
          },
          "metadata": {},
          "output_type": "display_data"
        },
        {
          "name": "stdout",
          "output_type": "stream",
          "text": [
            "              precision    recall  f1-score   support\n",
            "\n",
            "     0Normal       0.89      0.67      0.77       340\n",
            "       2Mild       0.63      0.83      0.71       305\n",
            "   3Moderate       0.79      0.75      0.77       174\n",
            "     4Severe       0.93      0.89      0.91        72\n",
            "\n",
            "    accuracy                           0.76       891\n",
            "   macro avg       0.81      0.78      0.79       891\n",
            "weighted avg       0.79      0.76      0.76       891\n",
            "\n"
          ]
        }
      ],
      "source": [
        "from sklearn.metrics import confusion_matrix, classification_report\n",
        "y_true = test_generator.classes\n",
        "\n",
        "# Convert predictions from probabilities to class labels\n",
        "y_pred_labels = np.argmax(y_pred, axis=1)\n",
        "\n",
        "# Calculate the confusion matrix\n",
        "conf_matrix = confusion_matrix(y_true, y_pred_labels)\n",
        "\n",
        "# Plot the confusion matrix\n",
        "plt.figure(figsize=(8, 6))\n",
        "plt.imshow(conf_matrix, interpolation='nearest', cmap=plt.cm.Blues)\n",
        "plt.title('Confusion Matrix')\n",
        "plt.colorbar()\n",
        "tick_marks = np.arange(len(classes))\n",
        "plt.xticks(tick_marks, classes, rotation=45)\n",
        "plt.yticks(tick_marks, classes)\n",
        "\n",
        "# Normalize the confusion matrix\n",
        "conf_matrix_normalized = conf_matrix.astype('float') / conf_matrix.sum(axis=1)[:, np.newaxis]\n",
        "\n",
        "# Add text annotations to each cell\n",
        "thresh = conf_matrix.max() / 2.\n",
        "for i, j in itertools.product(range(conf_matrix.shape[0]), range(conf_matrix.shape[1])):\n",
        "    plt.text(j, i, format(conf_matrix[i, j], 'd'),\n",
        "             horizontalalignment=\"center\",\n",
        "             color=\"white\" if conf_matrix[i, j] > thresh else \"black\")\n",
        "\n",
        "plt.tight_layout()\n",
        "plt.ylabel('True label')\n",
        "plt.xlabel('Predicted label')\n",
        "plt.show()\n",
        "\n",
        "# Print classification report\n",
        "print(classification_report(y_true, y_pred_labels, target_names=classes))"
      ]
    },
    {
      "cell_type": "code",
      "source": [],
      "metadata": {
        "id": "zKKBVaYF2f-T"
      },
      "execution_count": null,
      "outputs": []
    },
    {
      "cell_type": "code",
      "source": [],
      "metadata": {
        "id": "3d9s6T2H2f6t"
      },
      "execution_count": null,
      "outputs": []
    },
    {
      "cell_type": "code",
      "source": [],
      "metadata": {
        "id": "zO3fUHml2fuM"
      },
      "execution_count": null,
      "outputs": []
    },
    {
      "cell_type": "code",
      "source": [],
      "metadata": {
        "id": "QSPeZMVz2hhk"
      },
      "execution_count": null,
      "outputs": []
    },
    {
      "cell_type": "code",
      "source": [],
      "metadata": {
        "id": "5Bm8cPVC2heM"
      },
      "execution_count": null,
      "outputs": []
    },
    {
      "cell_type": "code",
      "source": [],
      "metadata": {
        "id": "DtEA4L9b2ha4"
      },
      "execution_count": null,
      "outputs": []
    },
    {
      "cell_type": "code",
      "source": [],
      "metadata": {
        "id": "aBAP7VE32hXB"
      },
      "execution_count": null,
      "outputs": []
    },
    {
      "cell_type": "code",
      "source": [],
      "metadata": {
        "id": "Mici1r1y2hUK"
      },
      "execution_count": null,
      "outputs": []
    },
    {
      "cell_type": "code",
      "source": [],
      "metadata": {
        "id": "HBA2EE_A2hQz"
      },
      "execution_count": null,
      "outputs": []
    },
    {
      "cell_type": "code",
      "source": [],
      "metadata": {
        "id": "4BU8u_Hy2frX"
      },
      "execution_count": null,
      "outputs": []
    },
    {
      "cell_type": "code",
      "source": [],
      "metadata": {
        "id": "oyL4eet22foq"
      },
      "execution_count": null,
      "outputs": []
    },
    {
      "cell_type": "code",
      "source": [],
      "metadata": {
        "id": "-AFCnpc82fkb"
      },
      "execution_count": null,
      "outputs": []
    },
    {
      "cell_type": "code",
      "source": [],
      "metadata": {
        "id": "5xWBEpYO2ff0"
      },
      "execution_count": null,
      "outputs": []
    },
    {
      "cell_type": "code",
      "source": [],
      "metadata": {
        "id": "3KjApz8v2fcH"
      },
      "execution_count": null,
      "outputs": []
    },
    {
      "cell_type": "code",
      "source": [],
      "metadata": {
        "id": "SADiDogG2fZB"
      },
      "execution_count": null,
      "outputs": []
    },
    {
      "cell_type": "code",
      "source": [],
      "metadata": {
        "id": "z8Inve7c2fV0"
      },
      "execution_count": null,
      "outputs": []
    },
    {
      "cell_type": "code",
      "source": [],
      "metadata": {
        "id": "g1bij7e22fQq"
      },
      "execution_count": null,
      "outputs": []
    },
    {
      "cell_type": "code",
      "source": [],
      "metadata": {
        "id": "X36MSpLF2fKx"
      },
      "execution_count": null,
      "outputs": []
    },
    {
      "cell_type": "code",
      "source": [],
      "metadata": {
        "id": "pE-tGUHz2fDh"
      },
      "execution_count": null,
      "outputs": []
    },
    {
      "cell_type": "code",
      "source": [],
      "metadata": {
        "id": "qVS97e1Y2fAy"
      },
      "execution_count": null,
      "outputs": []
    },
    {
      "cell_type": "code",
      "source": [],
      "metadata": {
        "id": "MbfRY0OB2e-Z"
      },
      "execution_count": null,
      "outputs": []
    },
    {
      "cell_type": "code",
      "source": [],
      "metadata": {
        "id": "GcTC8VJa2e7x"
      },
      "execution_count": null,
      "outputs": []
    },
    {
      "cell_type": "code",
      "source": [],
      "metadata": {
        "id": "-V6e8FB42e4M"
      },
      "execution_count": null,
      "outputs": []
    },
    {
      "cell_type": "code",
      "source": [],
      "metadata": {
        "id": "RQjkWGSE2ex9"
      },
      "execution_count": null,
      "outputs": []
    },
    {
      "cell_type": "code",
      "source": [],
      "metadata": {
        "id": "OwNQKjGD2etz"
      },
      "execution_count": null,
      "outputs": []
    },
    {
      "cell_type": "code",
      "source": [],
      "metadata": {
        "id": "Cxe6Gt_s2eo9"
      },
      "execution_count": null,
      "outputs": []
    },
    {
      "cell_type": "code",
      "source": [],
      "metadata": {
        "id": "wg_eXAye2ek6"
      },
      "execution_count": null,
      "outputs": []
    },
    {
      "cell_type": "code",
      "source": [],
      "metadata": {
        "id": "9xqWaWN12eZX"
      },
      "execution_count": null,
      "outputs": []
    },
    {
      "cell_type": "code",
      "source": [],
      "metadata": {
        "id": "-uc5NL3f2eVy"
      },
      "execution_count": null,
      "outputs": []
    },
    {
      "cell_type": "code",
      "execution_count": null,
      "metadata": {
        "colab": {
          "base_uri": "https://localhost:8080/"
        },
        "id": "yExrwH76A2Md",
        "outputId": "fe049997-1469-4f1b-cc2f-68b2c2ee7b46"
      },
      "outputs": [
        {
          "output_type": "stream",
          "name": "stdout",
          "text": [
            "Downloading data from https://storage.googleapis.com/tensorflow/keras-applications/inception_v3/inception_v3_weights_tf_dim_ordering_tf_kernels_notop.h5\n",
            "87910968/87910968 [==============================] - 6s 0us/step\n",
            "Model: \"model_1\"\n",
            "_________________________________________________________________\n",
            " Layer (type)                Output Shape              Param #   \n",
            "=================================================================\n",
            " input_3 (InputLayer)        [(None, 256, 256, 3)]     0         \n",
            "                                                                 \n",
            " model (Functional)          [(None, 256, 256, 1),     1863620   \n",
            "                              (None, 64, 64, 3)]                 \n",
            "                                                                 \n",
            " up_sampling2d (UpSampling2  (None, 256, 256, 3)       0         \n",
            " D)                                                              \n",
            "                                                                 \n",
            " tf.math.truediv (TFOpLambd  (None, 256, 256, 3)       0         \n",
            " a)                                                              \n",
            "                                                                 \n",
            " tf.math.subtract (TFOpLamb  (None, 256, 256, 3)       0         \n",
            " da)                                                             \n",
            "                                                                 \n",
            " sequential (Sequential)     (None, 4)                 23940548  \n",
            "                                                                 \n",
            "=================================================================\n",
            "Total params: 25804168 (98.44 MB)\n",
            "Trainable params: 25768968 (98.30 MB)\n",
            "Non-trainable params: 35200 (137.50 KB)\n",
            "_________________________________________________________________\n"
          ]
        }
      ],
      "source": [
        "from tensorflow.keras.models import Model\n",
        "from tensorflow.keras.layers import GlobalAveragePooling2D, Dropout, Dense, Conv2D, MaxPooling2D, Flatten, Input, UpSampling2D\n",
        "from tensorflow.keras.applications import InceptionV3\n",
        "from tensorflow.keras.applications.mobilenet import preprocess_input\n",
        "from tensorflow.keras.layers import BatchNormalization\n",
        "from tensorflow.keras.regularizers import l2\n",
        "from tensorflow.keras import models\n",
        "\n",
        "def classification_model(input_shape, num_classes, trainable_layers=None):\n",
        "    # Load the pre-trained MobileNet model without the top classification layer\n",
        "    base_mobilenet = InceptionV3(include_top=False, weights='imagenet', input_shape=input_shape)\n",
        "\n",
        "    # Freeze or unfreeze layers based on the specified list\n",
        "    if trainable_layers is not None:\n",
        "        for layer in base_mobilenet.layers:\n",
        "            if layer.name in trainable_layers:\n",
        "                layer.trainable = True\n",
        "            else:\n",
        "                layer.trainable = False\n",
        "\n",
        "    # Define the custom classification model architecture\n",
        "    custom_model = models.Sequential()\n",
        "\n",
        "    # Add the pre-trained MobileNet base model\n",
        "    custom_model.add(base_mobilenet)\n",
        "\n",
        "    # Add custom convolutional layers\n",
        "    custom_model.add(Conv2D(32, (3, 3), activation='relu', padding='same', dilation_rate=(2, 2), kernel_regularizer=l2(0.001)))\n",
        "    custom_model.add(Conv2D(64, (3, 3), padding='same', dilation_rate=(2, 2), kernel_regularizer=l2(0.001)))\n",
        "    custom_model.add(BatchNormalization())\n",
        "    custom_model.add(Dropout(0.1))\n",
        "\n",
        "    custom_model.add(Conv2D(128, (3, 3), activation='relu', padding='same', dilation_rate=(2, 2), kernel_regularizer=l2(0.001)))\n",
        "    custom_model.add(MaxPooling2D((2, 2), strides=(2, 2), padding='same'))\n",
        "    custom_model.add(Conv2D(256, (3, 3), activation='relu', padding='same', dilation_rate=(2, 2), kernel_regularizer=l2(0.001)))\n",
        "    custom_model.add(BatchNormalization())\n",
        "\n",
        "    custom_model.add(Conv2D(128, (3, 3), activation='relu', padding='same', dilation_rate=(2, 2), kernel_regularizer=l2(0.001)))\n",
        "    custom_model.add(MaxPooling2D((2, 2), strides=(2, 2), padding='same'))\n",
        "    custom_model.add(Conv2D(64, (3, 3), padding='same', dilation_rate=(2, 2), kernel_regularizer=l2(0.001)))\n",
        "    custom_model.add(BatchNormalization())\n",
        "    custom_model.add(Dropout(0.1))\n",
        "\n",
        "    custom_model.add(Flatten())\n",
        "    custom_model.add(Dense(1024, activation='relu', kernel_regularizer=l2(0.001)))\n",
        "    custom_model.add(Dense(512, activation='relu', kernel_regularizer=l2(0.001)))\n",
        "    custom_model.add(Dropout(0.2))\n",
        "    custom_model.add(Dense(num_classes, activation='softmax'))\n",
        "\n",
        "    return custom_model\n",
        "\n",
        "# Create a UNet model\n",
        "unet_model = unet((256, 256, 3))\n",
        "\n",
        "# Get the UNet's intermediate output shape\n",
        "_, reduced_output = unet_model.outputs\n",
        "\n",
        "# Adjust the shape with 3 channels to match the output from the UNet's intermediate layer\n",
        "reduced_output_shape = (256, 256, 3)\n",
        "\n",
        "# Instantiate the classification model\n",
        "num_classes = 4 # Example number of classes\n",
        "mobilenet_model = classification_model((256, 256, 3), 4)\n",
        "\n",
        "# Create the combined model\n",
        "combined_input = Input(shape=(256, 256, 3))\n",
        "unet_outputs, unet_reduced_output = unet_model(combined_input)\n",
        "\n",
        "# Upsample the output of the UNet model to match the input shape expected by MobileNet\n",
        "upsampled_output = UpSampling2D(size=(4, 4))(unet_reduced_output)  # Upsampling by a factor of 4 to match (64, 64) to (256, 256)\n",
        "\n",
        "# Ensure the upsampled output has the correct shape for MobileNet\n",
        "upsampled_output = preprocess_input(upsampled_output)\n",
        "\n",
        "# Pass the preprocessed output to the MobileNet-based classification model\n",
        "mobilenet_output = mobilenet_model(upsampled_output)\n",
        "\n",
        "# Create the combined model with UNet and classification parts\n",
        "combined_model = Model(inputs=combined_input, outputs=mobilenet_output)\n",
        "combined_model.summary()\n"
      ]
    },
    {
      "cell_type": "markdown",
      "source": [
        "Training the Combined Model with Callbacks"
      ],
      "metadata": {
        "id": "gfLIf7OvJJyt"
      }
    },
    {
      "cell_type": "code",
      "execution_count": null,
      "metadata": {
        "colab": {
          "base_uri": "https://localhost:8080/"
        },
        "id": "_Ggguk3SBKXI",
        "outputId": "0a9d8680-437d-4b96-fded-b729887f24c7"
      },
      "outputs": [
        {
          "output_type": "stream",
          "name": "stdout",
          "text": [
            "Epoch 1/40\n"
          ]
        },
        {
          "output_type": "stream",
          "name": "stderr",
          "text": [
            "WARNING:tensorflow:Gradients do not exist for variables ['conv2d_transpose/kernel:0', 'conv2d_transpose/bias:0', 'conv2d_6/kernel:0', 'conv2d_6/bias:0', 'conv2d_7/kernel:0', 'conv2d_7/bias:0', 'conv2d_transpose_1/kernel:0', 'conv2d_transpose_1/bias:0', 'conv2d_8/kernel:0', 'conv2d_8/bias:0', 'conv2d_9/kernel:0', 'conv2d_9/bias:0', 'conv2d_10/kernel:0', 'conv2d_10/bias:0'] when minimizing the loss. If you're using `model.compile()`, did you forget to provide a `loss` argument?\n",
            "WARNING:tensorflow:Gradients do not exist for variables ['conv2d_transpose/kernel:0', 'conv2d_transpose/bias:0', 'conv2d_6/kernel:0', 'conv2d_6/bias:0', 'conv2d_7/kernel:0', 'conv2d_7/bias:0', 'conv2d_transpose_1/kernel:0', 'conv2d_transpose_1/bias:0', 'conv2d_8/kernel:0', 'conv2d_8/bias:0', 'conv2d_9/kernel:0', 'conv2d_9/bias:0', 'conv2d_10/kernel:0', 'conv2d_10/bias:0'] when minimizing the loss. If you're using `model.compile()`, did you forget to provide a `loss` argument?\n",
            "WARNING:tensorflow:Gradients do not exist for variables ['conv2d_transpose/kernel:0', 'conv2d_transpose/bias:0', 'conv2d_6/kernel:0', 'conv2d_6/bias:0', 'conv2d_7/kernel:0', 'conv2d_7/bias:0', 'conv2d_transpose_1/kernel:0', 'conv2d_transpose_1/bias:0', 'conv2d_8/kernel:0', 'conv2d_8/bias:0', 'conv2d_9/kernel:0', 'conv2d_9/bias:0', 'conv2d_10/kernel:0', 'conv2d_10/bias:0'] when minimizing the loss. If you're using `model.compile()`, did you forget to provide a `loss` argument?\n",
            "WARNING:tensorflow:Gradients do not exist for variables ['conv2d_transpose/kernel:0', 'conv2d_transpose/bias:0', 'conv2d_6/kernel:0', 'conv2d_6/bias:0', 'conv2d_7/kernel:0', 'conv2d_7/bias:0', 'conv2d_transpose_1/kernel:0', 'conv2d_transpose_1/bias:0', 'conv2d_8/kernel:0', 'conv2d_8/bias:0', 'conv2d_9/kernel:0', 'conv2d_9/bias:0', 'conv2d_10/kernel:0', 'conv2d_10/bias:0'] when minimizing the loss. If you're using `model.compile()`, did you forget to provide a `loss` argument?\n"
          ]
        },
        {
          "output_type": "stream",
          "name": "stdout",
          "text": [
            "238/238 [==============================] - ETA: 0s - loss: 2.2965 - accuracy: 0.4456\n",
            "Epoch 1: val_accuracy improved from -inf to 0.33894, saving model to /model/best_model.h5\n"
          ]
        },
        {
          "output_type": "stream",
          "name": "stderr",
          "text": [
            "/usr/local/lib/python3.10/dist-packages/keras/src/engine/training.py:3103: UserWarning: You are saving your model as an HDF5 file via `model.save()`. This file format is considered legacy. We recommend using instead the native Keras format, e.g. `model.save('my_model.keras')`.\n",
            "  saving_api.save_model(\n"
          ]
        },
        {
          "output_type": "stream",
          "name": "stdout",
          "text": [
            "\b\b\b\b\b\b\b\b\b\b\b\b\b\b\b\b\b\b\b\b\b\b\b\b\b\b\b\b\b\b\b\b\b\b\b\b\b\b\b\b\b\b\b\b\b\b\b\b\b\b\b\b\b\b\b\b\b\b\b\b\b\b\b\b\b\b\b\b\b\b\b\b\b\b\b\b\b\b\b\b\b\b\b\b\r238/238 [==============================] - 281s 904ms/step - loss: 2.2965 - accuracy: 0.4456 - val_loss: 1.9809 - val_accuracy: 0.3389 - lr: 0.0010\n",
            "Epoch 2/40\n",
            "238/238 [==============================] - ETA: 0s - loss: 1.4251 - accuracy: 0.5483\n",
            "Epoch 2: val_accuracy improved from 0.33894 to 0.53846, saving model to /model/best_model.h5\n",
            "238/238 [==============================] - 207s 869ms/step - loss: 1.4251 - accuracy: 0.5483 - val_loss: 1.2876 - val_accuracy: 0.5385 - lr: 0.0010\n",
            "Epoch 3/40\n",
            "238/238 [==============================] - ETA: 0s - loss: 0.9901 - accuracy: 0.6524\n",
            "Epoch 3: val_accuracy did not improve from 0.53846\n",
            "\n",
            "Epoch 3: ReduceLROnPlateau reducing learning rate to 0.0005000000237487257.\n",
            "238/238 [==============================] - 204s 858ms/step - loss: 0.9901 - accuracy: 0.6524 - val_loss: 1.3968 - val_accuracy: 0.4916 - lr: 0.0010\n",
            "Epoch 4/40\n",
            "238/238 [==============================] - ETA: 0s - loss: 0.7225 - accuracy: 0.7570\n",
            "Epoch 4: val_accuracy improved from 0.53846 to 0.58413, saving model to /model/best_model.h5\n",
            "238/238 [==============================] - 205s 862ms/step - loss: 0.7225 - accuracy: 0.7570 - val_loss: 1.0851 - val_accuracy: 0.5841 - lr: 5.0000e-04\n",
            "Epoch 5/40\n",
            "238/238 [==============================] - ETA: 0s - loss: 0.6338 - accuracy: 0.7818\n",
            "Epoch 5: val_accuracy improved from 0.58413 to 0.62740, saving model to /model/best_model.h5\n",
            "238/238 [==============================] - 205s 862ms/step - loss: 0.6338 - accuracy: 0.7818 - val_loss: 0.9961 - val_accuracy: 0.6274 - lr: 5.0000e-04\n",
            "Epoch 6/40\n",
            "238/238 [==============================] - ETA: 0s - loss: 0.5704 - accuracy: 0.8019\n",
            "Epoch 6: val_accuracy improved from 0.62740 to 0.64784, saving model to /model/best_model.h5\n",
            "238/238 [==============================] - 208s 874ms/step - loss: 0.5704 - accuracy: 0.8019 - val_loss: 0.8269 - val_accuracy: 0.6478 - lr: 5.0000e-04\n",
            "Epoch 7/40\n",
            "238/238 [==============================] - ETA: 0s - loss: 0.4970 - accuracy: 0.8263\n",
            "Epoch 7: val_accuracy improved from 0.64784 to 0.71034, saving model to /model/best_model.h5\n",
            "\n",
            "Epoch 7: ReduceLROnPlateau reducing learning rate to 0.0002500000118743628.\n",
            "238/238 [==============================] - 206s 865ms/step - loss: 0.4970 - accuracy: 0.8263 - val_loss: 0.8911 - val_accuracy: 0.7103 - lr: 5.0000e-04\n",
            "Epoch 8/40\n",
            "238/238 [==============================] - ETA: 0s - loss: 0.3837 - accuracy: 0.8721\n",
            "Epoch 8: val_accuracy did not improve from 0.71034\n",
            "238/238 [==============================] - 204s 857ms/step - loss: 0.3837 - accuracy: 0.8721 - val_loss: 0.7988 - val_accuracy: 0.7103 - lr: 2.5000e-04\n",
            "Epoch 9/40\n",
            "238/238 [==============================] - ETA: 0s - loss: 0.3194 - accuracy: 0.9035\n",
            "Epoch 9: val_accuracy did not improve from 0.71034\n",
            "\n",
            "Epoch 9: ReduceLROnPlateau reducing learning rate to 0.0001250000059371814.\n",
            "238/238 [==============================] - 204s 858ms/step - loss: 0.3194 - accuracy: 0.9035 - val_loss: 1.4439 - val_accuracy: 0.5288 - lr: 2.5000e-04\n",
            "Epoch 10/40\n",
            "238/238 [==============================] - ETA: 0s - loss: 0.2221 - accuracy: 0.9392\n",
            "Epoch 10: val_accuracy improved from 0.71034 to 0.75120, saving model to /model/best_model.h5\n",
            "\n",
            "Epoch 10: ReduceLROnPlateau reducing learning rate to 6.25000029685907e-05.\n",
            "238/238 [==============================] - 205s 861ms/step - loss: 0.2221 - accuracy: 0.9392 - val_loss: 0.8490 - val_accuracy: 0.7512 - lr: 1.2500e-04\n",
            "Epoch 11/40\n",
            "238/238 [==============================] - ETA: 0s - loss: 0.1581 - accuracy: 0.9643\n",
            "Epoch 11: val_accuracy improved from 0.75120 to 0.78846, saving model to /model/best_model.h5\n",
            "238/238 [==============================] - 206s 865ms/step - loss: 0.1581 - accuracy: 0.9643 - val_loss: 0.7567 - val_accuracy: 0.7885 - lr: 6.2500e-05\n",
            "Epoch 12/40\n",
            "238/238 [==============================] - ETA: 0s - loss: 0.1167 - accuracy: 0.9779\n",
            "Epoch 12: val_accuracy improved from 0.78846 to 0.79207, saving model to /model/best_model.h5\n",
            "\n",
            "Epoch 12: ReduceLROnPlateau reducing learning rate to 3.125000148429535e-05.\n",
            "238/238 [==============================] - 206s 864ms/step - loss: 0.1167 - accuracy: 0.9779 - val_loss: 0.7730 - val_accuracy: 0.7921 - lr: 6.2500e-05\n",
            "Epoch 13/40\n",
            "238/238 [==============================] - ETA: 0s - loss: 0.0839 - accuracy: 0.9866\n",
            "Epoch 13: val_accuracy did not improve from 0.79207\n",
            "\n",
            "Epoch 13: ReduceLROnPlateau reducing learning rate to 1.5625000742147677e-05.\n",
            "238/238 [==============================] - 204s 856ms/step - loss: 0.0839 - accuracy: 0.9866 - val_loss: 1.0214 - val_accuracy: 0.7476 - lr: 3.1250e-05\n",
            "Epoch 14/40\n",
            "238/238 [==============================] - ETA: 0s - loss: 0.0792 - accuracy: 0.9892\n",
            "Epoch 14: val_accuracy did not improve from 0.79207\n",
            "\n",
            "Epoch 14: ReduceLROnPlateau reducing learning rate to 1e-05.\n",
            "238/238 [==============================] - 204s 856ms/step - loss: 0.0792 - accuracy: 0.9892 - val_loss: 0.9570 - val_accuracy: 0.7800 - lr: 1.5625e-05\n",
            "Epoch 15/40\n",
            "238/238 [==============================] - ETA: 0s - loss: 0.0699 - accuracy: 0.9915\n",
            "Epoch 15: val_accuracy did not improve from 0.79207\n",
            "238/238 [==============================] - 204s 856ms/step - loss: 0.0699 - accuracy: 0.9915 - val_loss: 1.0481 - val_accuracy: 0.7752 - lr: 1.0000e-05\n",
            "Epoch 16/40\n",
            "238/238 [==============================] - ETA: 0s - loss: 0.0679 - accuracy: 0.9926\n",
            "Epoch 16: val_accuracy improved from 0.79207 to 0.79808, saving model to /model/best_model.h5\n",
            "238/238 [==============================] - 208s 874ms/step - loss: 0.0679 - accuracy: 0.9926 - val_loss: 0.9716 - val_accuracy: 0.7981 - lr: 1.0000e-05\n",
            "Epoch 17/40\n",
            "238/238 [==============================] - ETA: 0s - loss: 0.0600 - accuracy: 0.9934\n",
            "Epoch 17: val_accuracy did not improve from 0.79808\n",
            "238/238 [==============================] - 204s 857ms/step - loss: 0.0600 - accuracy: 0.9934 - val_loss: 1.0820 - val_accuracy: 0.7812 - lr: 1.0000e-05\n",
            "Epoch 18/40\n",
            "238/238 [==============================] - ETA: 0s - loss: 0.0549 - accuracy: 0.9966\n",
            "Epoch 18: val_accuracy did not improve from 0.79808\n",
            "238/238 [==============================] - 204s 856ms/step - loss: 0.0549 - accuracy: 0.9966 - val_loss: 1.1412 - val_accuracy: 0.7837 - lr: 1.0000e-05\n",
            "Epoch 19/40\n",
            "238/238 [==============================] - ETA: 0s - loss: 0.0508 - accuracy: 0.9965\n",
            "Epoch 19: val_accuracy did not improve from 0.79808\n",
            "Restoring model weights from the end of the best epoch: 11.\n",
            "238/238 [==============================] - 203s 855ms/step - loss: 0.0508 - accuracy: 0.9965 - val_loss: 1.1305 - val_accuracy: 0.7885 - lr: 1.0000e-05\n",
            "Epoch 19: early stopping\n"
          ]
        }
      ],
      "source": [
        "from tensorflow.keras.callbacks import ReduceLROnPlateau, EarlyStopping, ModelCheckpoint\n",
        "import shutil\n",
        "\n",
        "# Define callbacks for learning rate reduction, early stopping, and model checkpointing\n",
        "lr_reduction = ReduceLROnPlateau(monitor='val_loss', patience=1, verbose=1, factor=0.5, min_lr=0.00001)\n",
        "early_stopping = EarlyStopping(monitor='val_loss', patience=8, verbose=1, restore_best_weights=True)\n",
        "checkpoint = ModelCheckpoint('/model/best_model.h5', monitor='val_accuracy', save_best_only=True, mode='max', verbose=1)\n",
        "callbacks_list = [checkpoint, lr_reduction, early_stopping]\n",
        "\n",
        "# Calculate steps per epoch for training and validation\n",
        "steps_per_epoch_train = len(train_image_paths) // batch_size\n",
        "steps_per_epoch_val = len(val_image_paths) // batch_size\n",
        "\n",
        "# Calculate the number of steps for validation\n",
        "validation_steps = len(val_image_paths) // batch_size\n",
        "\n",
        "# Compile the combined model\n",
        "combined_model.compile(optimizer='adam', loss='categorical_crossentropy', metrics=['accuracy'])\n",
        "\n",
        "# Train the combined model\n",
        "history = combined_model.fit(\n",
        "    train_generator,\n",
        "    epochs=40,\n",
        "    validation_data=val_generator,\n",
        "    steps_per_epoch=steps_per_epoch_train,\n",
        "    validation_steps=validation_steps,\n",
        "    callbacks=callbacks_list\n",
        ")\n"
      ]
    },
    {
      "cell_type": "markdown",
      "source": [
        "Creating a Combined Model with UNet and Classification Parts"
      ],
      "metadata": {
        "id": "Y4XT-MC0Jb3h"
      }
    },
    {
      "cell_type": "code",
      "source": [
        "from tensorflow.keras.models import Model\n",
        "from tensorflow.keras.layers import GlobalAveragePooling2D, Dropout, Dense, Conv2D, MaxPooling2D, Flatten, Input, UpSampling2D\n",
        "from tensorflow.keras.applications import InceptionResNetV2\n",
        "from tensorflow.keras.applications.mobilenet import preprocess_input\n",
        "from tensorflow.keras.layers import BatchNormalization\n",
        "from tensorflow.keras.regularizers import l2\n",
        "from tensorflow.keras import models\n",
        "\n",
        "def classification_model(input_shape, num_classes, trainable_layers=None):\n",
        "    # Load the pre-trained MobileNet model without the top classification layer\n",
        "    base_mobilenet = InceptionResNetV2(include_top=False, weights='imagenet', input_shape=input_shape)\n",
        "\n",
        "    # Freeze or unfreeze layers based on the specified list\n",
        "    if trainable_layers is not None:\n",
        "        for layer in base_mobilenet.layers:\n",
        "            if layer.name in trainable_layers:\n",
        "                layer.trainable = True\n",
        "            else:\n",
        "                layer.trainable = False\n",
        "\n",
        "    # Define the custom classification model architecture\n",
        "    custom_model = models.Sequential()\n",
        "\n",
        "    # Add the pre-trained MobileNet base model\n",
        "    custom_model.add(base_mobilenet)\n",
        "\n",
        "    # Add custom convolutional layers\n",
        "    custom_model.add(Conv2D(32, (3, 3), activation='relu', padding='same', dilation_rate=(2, 2), kernel_regularizer=l2(0.001)))\n",
        "    custom_model.add(Conv2D(64, (3, 3), padding='same', dilation_rate=(2, 2), kernel_regularizer=l2(0.001)))\n",
        "    custom_model.add(BatchNormalization())\n",
        "    custom_model.add(Dropout(0.1))\n",
        "\n",
        "    custom_model.add(Conv2D(128, (3, 3), activation='relu', padding='same', dilation_rate=(2, 2), kernel_regularizer=l2(0.001)))\n",
        "    custom_model.add(MaxPooling2D((2, 2), strides=(2, 2), padding='same'))\n",
        "    custom_model.add(Conv2D(256, (3, 3), activation='relu', padding='same', dilation_rate=(2, 2), kernel_regularizer=l2(0.001)))\n",
        "    custom_model.add(BatchNormalization())\n",
        "\n",
        "    custom_model.add(Conv2D(128, (3, 3), activation='relu', padding='same', dilation_rate=(2, 2), kernel_regularizer=l2(0.001)))\n",
        "    custom_model.add(MaxPooling2D((2, 2), strides=(2, 2), padding='same'))\n",
        "    custom_model.add(Conv2D(64, (3, 3), padding='same', dilation_rate=(2, 2), kernel_regularizer=l2(0.001)))\n",
        "    custom_model.add(BatchNormalization())\n",
        "    custom_model.add(Dropout(0.1))\n",
        "\n",
        "    custom_model.add(Flatten())\n",
        "    custom_model.add(Dense(1024, activation='relu', kernel_regularizer=l2(0.001)))\n",
        "    custom_model.add(Dense(512, activation='relu', kernel_regularizer=l2(0.001)))\n",
        "    custom_model.add(Dropout(0.2))\n",
        "    custom_model.add(Dense(num_classes, activation='softmax'))\n",
        "\n",
        "    return custom_model\n",
        "\n",
        "# Create a UNet model\n",
        "unet_model = unet((256, 256, 3))\n",
        "\n",
        "# Get the UNet's intermediate output shape\n",
        "_, reduced_output = unet_model.outputs\n",
        "\n",
        "# Adjust the shape with 3 channels to match the output from the UNet's intermediate layer\n",
        "reduced_output_shape = (256, 256, 3)\n",
        "\n",
        "# Instantiate the classification model\n",
        "num_classes = 4 # Example number of classes\n",
        "mobilenet_model = classification_model((256, 256, 3), 4)\n",
        "\n",
        "# Create the combined model\n",
        "combined_input = Input(shape=(256, 256, 3))\n",
        "unet_outputs, unet_reduced_output = unet_model(combined_input)\n",
        "\n",
        "# Upsample the output of the UNet model to match the input shape expected by MobileNet\n",
        "upsampled_output = UpSampling2D(size=(4, 4))(unet_reduced_output)  # Upsampling by a factor of 4 to match (64, 64) to (256, 256)\n",
        "\n",
        "# Ensure the upsampled output has the correct shape for MobileNet\n",
        "upsampled_output = preprocess_input(upsampled_output)\n",
        "\n",
        "# Pass the preprocessed output to the MobileNet-based classification model\n",
        "mobilenet_output = mobilenet_model(upsampled_output)\n",
        "\n",
        "# Create the combined model with UNet and classification parts\n",
        "combined_model = Model(inputs=combined_input, outputs=mobilenet_output)\n",
        "combined_model.summary()\n"
      ],
      "metadata": {
        "colab": {
          "base_uri": "https://localhost:8080/"
        },
        "id": "oQcfdc3MiMI8",
        "outputId": "98433641-2fc3-4792-a524-932a382d4db2"
      },
      "execution_count": null,
      "outputs": [
        {
          "output_type": "stream",
          "name": "stdout",
          "text": [
            "Downloading data from https://storage.googleapis.com/tensorflow/keras-applications/inception_resnet_v2/inception_resnet_v2_weights_tf_dim_ordering_tf_kernels_notop.h5\n",
            "219055592/219055592 [==============================] - 2s 0us/step\n",
            "Model: \"model_1\"\n",
            "_________________________________________________________________\n",
            " Layer (type)                Output Shape              Param #   \n",
            "=================================================================\n",
            " input_3 (InputLayer)        [(None, 256, 256, 3)]     0         \n",
            "                                                                 \n",
            " model (Functional)          [(None, 256, 256, 1),     1863620   \n",
            "                              (None, 64, 64, 3)]                 \n",
            "                                                                 \n",
            " up_sampling2d (UpSampling2  (None, 256, 256, 3)       0         \n",
            " D)                                                              \n",
            "                                                                 \n",
            " tf.math.truediv (TFOpLambd  (None, 256, 256, 3)       0         \n",
            " a)                                                              \n",
            "                                                                 \n",
            " tf.math.subtract (TFOpLamb  (None, 256, 256, 3)       0         \n",
            " da)                                                             \n",
            "                                                                 \n",
            " sequential (Sequential)     (None, 4)                 56327044  \n",
            "                                                                 \n",
            "=================================================================\n",
            "Total params: 58190664 (221.98 MB)\n",
            "Trainable params: 58129352 (221.75 MB)\n",
            "Non-trainable params: 61312 (239.50 KB)\n",
            "_________________________________________________________________\n"
          ]
        }
      ]
    },
    {
      "cell_type": "markdown",
      "source": [
        "Training the Combined Model with Callbacks"
      ],
      "metadata": {
        "id": "NUiA34_oJl31"
      }
    },
    {
      "cell_type": "code",
      "source": [
        "from tensorflow.keras.callbacks import ReduceLROnPlateau, EarlyStopping, ModelCheckpoint\n",
        "import shutil\n",
        "\n",
        "# Define callbacks for learning rate reduction, early stopping, and model checkpointing\n",
        "lr_reduction = ReduceLROnPlateau(monitor='val_loss', patience=1, verbose=1, factor=0.5, min_lr=0.00001)\n",
        "early_stopping = EarlyStopping(monitor='val_loss', patience=8, verbose=1, restore_best_weights=True)\n",
        "checkpoint = ModelCheckpoint('/model/best_model.h5', monitor='val_accuracy', save_best_only=True, mode='max', verbose=1)\n",
        "callbacks_list = [checkpoint, lr_reduction, early_stopping]\n",
        "\n",
        "# Calculate steps per epoch for training and validation\n",
        "steps_per_epoch_train = len(train_image_paths) // batch_size\n",
        "steps_per_epoch_val = len(val_image_paths) // batch_size\n",
        "\n",
        "# Calculate the number of steps for validation\n",
        "validation_steps = len(val_image_paths) // batch_size\n",
        "\n",
        "# Compile the combined model\n",
        "combined_model.compile(optimizer='adam', loss='categorical_crossentropy', metrics=['accuracy'])\n",
        "\n",
        "# Train the combined model\n",
        "history = combined_model.fit(\n",
        "    train_generator,\n",
        "    epochs=40,\n",
        "    validation_data=val_generator,\n",
        "    steps_per_epoch=steps_per_epoch_train,\n",
        "    validation_steps=validation_steps,\n",
        "    callbacks=callbacks_list\n",
        ")\n"
      ],
      "metadata": {
        "colab": {
          "base_uri": "https://localhost:8080/"
        },
        "id": "cRtp4SyOiU5j",
        "outputId": "e4a90643-5d2e-4152-f2b3-5cc0e94f0b9c"
      },
      "execution_count": null,
      "outputs": [
        {
          "output_type": "stream",
          "name": "stdout",
          "text": [
            "Epoch 1/40\n"
          ]
        },
        {
          "output_type": "stream",
          "name": "stderr",
          "text": [
            "WARNING:tensorflow:Gradients do not exist for variables ['conv2d_transpose/kernel:0', 'conv2d_transpose/bias:0', 'conv2d_6/kernel:0', 'conv2d_6/bias:0', 'conv2d_7/kernel:0', 'conv2d_7/bias:0', 'conv2d_transpose_1/kernel:0', 'conv2d_transpose_1/bias:0', 'conv2d_8/kernel:0', 'conv2d_8/bias:0', 'conv2d_9/kernel:0', 'conv2d_9/bias:0', 'conv2d_10/kernel:0', 'conv2d_10/bias:0'] when minimizing the loss. If you're using `model.compile()`, did you forget to provide a `loss` argument?\n",
            "WARNING:tensorflow:Gradients do not exist for variables ['conv2d_transpose/kernel:0', 'conv2d_transpose/bias:0', 'conv2d_6/kernel:0', 'conv2d_6/bias:0', 'conv2d_7/kernel:0', 'conv2d_7/bias:0', 'conv2d_transpose_1/kernel:0', 'conv2d_transpose_1/bias:0', 'conv2d_8/kernel:0', 'conv2d_8/bias:0', 'conv2d_9/kernel:0', 'conv2d_9/bias:0', 'conv2d_10/kernel:0', 'conv2d_10/bias:0'] when minimizing the loss. If you're using `model.compile()`, did you forget to provide a `loss` argument?\n",
            "WARNING:tensorflow:Gradients do not exist for variables ['conv2d_transpose/kernel:0', 'conv2d_transpose/bias:0', 'conv2d_6/kernel:0', 'conv2d_6/bias:0', 'conv2d_7/kernel:0', 'conv2d_7/bias:0', 'conv2d_transpose_1/kernel:0', 'conv2d_transpose_1/bias:0', 'conv2d_8/kernel:0', 'conv2d_8/bias:0', 'conv2d_9/kernel:0', 'conv2d_9/bias:0', 'conv2d_10/kernel:0', 'conv2d_10/bias:0'] when minimizing the loss. If you're using `model.compile()`, did you forget to provide a `loss` argument?\n",
            "WARNING:tensorflow:Gradients do not exist for variables ['conv2d_transpose/kernel:0', 'conv2d_transpose/bias:0', 'conv2d_6/kernel:0', 'conv2d_6/bias:0', 'conv2d_7/kernel:0', 'conv2d_7/bias:0', 'conv2d_transpose_1/kernel:0', 'conv2d_transpose_1/bias:0', 'conv2d_8/kernel:0', 'conv2d_8/bias:0', 'conv2d_9/kernel:0', 'conv2d_9/bias:0', 'conv2d_10/kernel:0', 'conv2d_10/bias:0'] when minimizing the loss. If you're using `model.compile()`, did you forget to provide a `loss` argument?\n"
          ]
        },
        {
          "output_type": "stream",
          "name": "stdout",
          "text": [
            "238/238 [==============================] - ETA: 0s - loss: 2.1454 - accuracy: 0.5487\n",
            "Epoch 1: val_accuracy improved from -inf to 0.47716, saving model to /model/best_model.h5\n"
          ]
        },
        {
          "output_type": "stream",
          "name": "stderr",
          "text": [
            "/usr/local/lib/python3.10/dist-packages/keras/src/engine/training.py:3103: UserWarning: You are saving your model as an HDF5 file via `model.save()`. This file format is considered legacy. We recommend using instead the native Keras format, e.g. `model.save('my_model.keras')`.\n",
            "  saving_api.save_model(\n"
          ]
        },
        {
          "output_type": "stream",
          "name": "stdout",
          "text": [
            "\b\b\b\b\b\b\b\b\b\b\b\b\b\b\b\b\b\b\b\b\b\b\b\b\b\b\b\b\b\b\b\b\b\b\b\b\b\b\b\b\b\b\b\b\b\b\b\b\b\b\b\b\b\b\b\b\b\b\b\b\b\b\b\b\b\b\b\b\b\b\b\b\b\b\b\b\b\b\b\b\b\b\b\b\r238/238 [==============================] - 432s 1s/step - loss: 2.1454 - accuracy: 0.5487 - val_loss: 2.0076 - val_accuracy: 0.4772 - lr: 0.0010\n",
            "Epoch 2/40\n",
            "238/238 [==============================] - ETA: 0s - loss: 1.2501 - accuracy: 0.6842\n",
            "Epoch 2: val_accuracy improved from 0.47716 to 0.50120, saving model to /model/best_model.h5\n",
            "238/238 [==============================] - 308s 1s/step - loss: 1.2501 - accuracy: 0.6842 - val_loss: 1.6916 - val_accuracy: 0.5012 - lr: 0.0010\n",
            "Epoch 3/40\n",
            "238/238 [==============================] - ETA: 0s - loss: 0.9042 - accuracy: 0.7190\n",
            "Epoch 3: val_accuracy improved from 0.50120 to 0.64303, saving model to /model/best_model.h5\n",
            "238/238 [==============================] - 308s 1s/step - loss: 0.9042 - accuracy: 0.7190 - val_loss: 1.0475 - val_accuracy: 0.6430 - lr: 0.0010\n",
            "Epoch 4/40\n",
            "238/238 [==============================] - ETA: 0s - loss: 0.7223 - accuracy: 0.7579\n",
            "Epoch 4: val_accuracy did not improve from 0.64303\n",
            "\n",
            "Epoch 4: ReduceLROnPlateau reducing learning rate to 0.0005000000237487257.\n",
            "238/238 [==============================] - 303s 1s/step - loss: 0.7223 - accuracy: 0.7579 - val_loss: 1.2363 - val_accuracy: 0.5192 - lr: 0.0010\n",
            "Epoch 5/40\n",
            "238/238 [==============================] - ETA: 0s - loss: 0.5639 - accuracy: 0.8163\n",
            "Epoch 5: val_accuracy improved from 0.64303 to 0.69832, saving model to /model/best_model.h5\n",
            "238/238 [==============================] - 310s 1s/step - loss: 0.5639 - accuracy: 0.8163 - val_loss: 0.8484 - val_accuracy: 0.6983 - lr: 5.0000e-04\n",
            "Epoch 6/40\n",
            "238/238 [==============================] - ETA: 0s - loss: 0.4670 - accuracy: 0.8529\n",
            "Epoch 6: val_accuracy improved from 0.69832 to 0.71635, saving model to /model/best_model.h5\n",
            "238/238 [==============================] - 315s 1s/step - loss: 0.4670 - accuracy: 0.8529 - val_loss: 0.7833 - val_accuracy: 0.7163 - lr: 5.0000e-04\n",
            "Epoch 7/40\n",
            "238/238 [==============================] - ETA: 0s - loss: 0.4137 - accuracy: 0.8690\n",
            "Epoch 7: val_accuracy did not improve from 0.71635\n",
            "\n",
            "Epoch 7: ReduceLROnPlateau reducing learning rate to 0.0002500000118743628.\n",
            "238/238 [==============================] - 306s 1s/step - loss: 0.4137 - accuracy: 0.8690 - val_loss: 0.8015 - val_accuracy: 0.7091 - lr: 5.0000e-04\n",
            "Epoch 8/40\n",
            "238/238 [==============================] - ETA: 0s - loss: 0.2934 - accuracy: 0.9196\n",
            "Epoch 8: val_accuracy did not improve from 0.71635\n",
            "\n",
            "Epoch 8: ReduceLROnPlateau reducing learning rate to 0.0001250000059371814.\n",
            "238/238 [==============================] - 304s 1s/step - loss: 0.2934 - accuracy: 0.9196 - val_loss: 0.9322 - val_accuracy: 0.7139 - lr: 2.5000e-04\n",
            "Epoch 9/40\n",
            "238/238 [==============================] - ETA: 0s - loss: 0.1865 - accuracy: 0.9547\n",
            "Epoch 9: val_accuracy did not improve from 0.71635\n",
            "\n",
            "Epoch 9: ReduceLROnPlateau reducing learning rate to 6.25000029685907e-05.\n",
            "238/238 [==============================] - 304s 1s/step - loss: 0.1865 - accuracy: 0.9547 - val_loss: 1.1215 - val_accuracy: 0.6899 - lr: 1.2500e-04\n",
            "Epoch 10/40\n",
            "238/238 [==============================] - ETA: 0s - loss: 0.1308 - accuracy: 0.9751\n",
            "Epoch 10: val_accuracy improved from 0.71635 to 0.77163, saving model to /model/best_model.h5\n",
            "\n",
            "Epoch 10: ReduceLROnPlateau reducing learning rate to 3.125000148429535e-05.\n",
            "238/238 [==============================] - 308s 1s/step - loss: 0.1308 - accuracy: 0.9751 - val_loss: 0.9418 - val_accuracy: 0.7716 - lr: 6.2500e-05\n",
            "Epoch 11/40\n",
            "238/238 [==============================] - ETA: 0s - loss: 0.1004 - accuracy: 0.9846\n",
            "Epoch 11: val_accuracy did not improve from 0.77163\n",
            "\n",
            "Epoch 11: ReduceLROnPlateau reducing learning rate to 1.5625000742147677e-05.\n",
            "238/238 [==============================] - 306s 1s/step - loss: 0.1004 - accuracy: 0.9846 - val_loss: 1.0440 - val_accuracy: 0.7620 - lr: 3.1250e-05\n",
            "Epoch 12/40\n",
            "238/238 [==============================] - ETA: 0s - loss: 0.0899 - accuracy: 0.9884\n",
            "Epoch 12: val_accuracy did not improve from 0.77163\n",
            "\n",
            "Epoch 12: ReduceLROnPlateau reducing learning rate to 1e-05.\n",
            "238/238 [==============================] - 304s 1s/step - loss: 0.0899 - accuracy: 0.9884 - val_loss: 0.9726 - val_accuracy: 0.7632 - lr: 1.5625e-05\n",
            "Epoch 13/40\n",
            "238/238 [==============================] - ETA: 0s - loss: 0.0749 - accuracy: 0.9926\n",
            "Epoch 13: val_accuracy improved from 0.77163 to 0.78125, saving model to /model/best_model.h5\n",
            "238/238 [==============================] - 315s 1s/step - loss: 0.0749 - accuracy: 0.9926 - val_loss: 0.9485 - val_accuracy: 0.7812 - lr: 1.0000e-05\n",
            "Epoch 14/40\n",
            "238/238 [==============================] - ETA: 0s - loss: 0.0814 - accuracy: 0.9907\n",
            "Epoch 14: val_accuracy improved from 0.78125 to 0.78245, saving model to /model/best_model.h5\n",
            "Restoring model weights from the end of the best epoch: 6.\n",
            "238/238 [==============================] - 313s 1s/step - loss: 0.0814 - accuracy: 0.9907 - val_loss: 0.9714 - val_accuracy: 0.7825 - lr: 1.0000e-05\n",
            "Epoch 14: early stopping\n"
          ]
        }
      ]
    },
    {
      "cell_type": "markdown",
      "source": [
        "Visualizing Training and Validation Metrics"
      ],
      "metadata": {
        "id": "C-0hum1uJylH"
      }
    },
    {
      "cell_type": "code",
      "source": [
        "import matplotlib.pyplot as plt\n",
        "\n",
        "epochs = history.epoch\n",
        "val_accuracy = history.history['val_accuracy']\n",
        "val_loss = history.history['val_loss']\n",
        "accuracy = history.history['accuracy']\n",
        "loss = history.history['loss']\n",
        "\n",
        "plt.figure(figsize=(10, 5))\n",
        "plt.plot(epochs, val_accuracy, label='Validation Accuracy', marker='o')\n",
        "plt.plot(epochs, accuracy, label='Accuracy', marker='x')\n",
        "plt.title('Accuracy vs. Validation Accuracy')\n",
        "plt.xlabel('Validation Accuracy')\n",
        "plt.ylabel('Accuracy')\n",
        "plt.legend()\n",
        "plt.grid(True)\n",
        "plt.show()\n",
        "\n",
        "# Plot validation loss (val_loss) and loss\n",
        "plt.figure(figsize=(10, 5))\n",
        "plt.plot(epochs, val_loss, label='Validation Loss', marker='o')\n",
        "plt.plot(epochs, loss, label='Loss', marker='x')\n",
        "plt.title('Loss vs. Val Loss')\n",
        "plt.xlabel('Val Loss')\n",
        "plt.ylabel('Loss')\n",
        "plt.legend()\n",
        "plt.grid(True)\n",
        "plt.show()"
      ],
      "metadata": {
        "colab": {
          "base_uri": "https://localhost:8080/",
          "height": 957
        },
        "id": "93zhHdZDAedK",
        "outputId": "7d8cd4bd-cbd7-43e4-edda-5013477bc288"
      },
      "execution_count": null,
      "outputs": [
        {
          "output_type": "display_data",
          "data": {
            "text/plain": [
              "<Figure size 1000x500 with 1 Axes>"
            ],
            "image/png": "[encoded data removed]"
          },
          "metadata": {}
        },
        {
          "output_type": "display_data",
          "data": {
            "text/plain": [
              "<Figure size 1000x500 with 1 Axes>"
            ],
            "image/png": "[encoded data removed]"
          },
          "metadata": {}
        }
      ]
    }
  ],
  "metadata": {
    "colab": {
      "provenance": [],
      "gpuType": "T4"
    },
    "kernelspec": {
      "display_name": "Python 3",
      "name": "python3"
    },
    "language_info": {
      "name": "python"
    },
    "accelerator": "GPU"
  },
  "nbformat": 4,
  "nbformat_minor": 0
}